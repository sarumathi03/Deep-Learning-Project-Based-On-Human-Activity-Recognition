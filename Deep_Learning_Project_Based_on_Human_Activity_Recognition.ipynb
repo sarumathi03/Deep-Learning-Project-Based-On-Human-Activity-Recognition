{
  "cells": [
    {
      "cell_type": "markdown",
      "metadata": {
        "id": "view-in-github",
        "colab_type": "text"
      },
      "source": [
        "<a href=\"https://colab.research.google.com/github/sarumathi03/Deep-Learning-Project-Based-On-Human-Activity-Recognition/blob/main/Deep_Learning_Project_Based_on_Human_Activity_Recognition.ipynb\" target=\"_parent\"><img src=\"https://colab.research.google.com/assets/colab-badge.svg\" alt=\"Open In Colab\"/></a>"
      ]
    },
    {
      "cell_type": "code",
      "execution_count": null,
      "metadata": {
        "colab": {
          "base_uri": "https://localhost:8080/"
        },
        "id": "ycftgu9tbxz0",
        "outputId": "6c72e5c9-7284-4faf-df59-518789d0a3d9"
      },
      "outputs": [
        {
          "name": "stdout",
          "output_type": "stream",
          "text": [
            "Cloning into 'learnopencv'...\n",
            "remote: Enumerating objects: 17359, done.\u001b[K\n",
            "remote: Counting objects: 100% (727/727), done.\u001b[K\n",
            "remote: Compressing objects: 100% (622/622), done.\u001b[K\n",
            "remote: Total 17359 (delta 175), reused 520 (delta 98), pack-reused 16632\u001b[K\n",
            "Receiving objects: 100% (17359/17359), 1.98 GiB | 23.97 MiB/s, done.\n",
            "Resolving deltas: 100% (4744/4744), done.\n",
            "Updating files: 100% (10928/10928), done.\n"
          ]
        }
      ],
      "source": [
        "!git clone https://github.com/sarumathi03/learnopencv"
      ]
    },
    {
      "cell_type": "code",
      "execution_count": null,
      "metadata": {
        "colab": {
          "base_uri": "https://localhost:8080/"
        },
        "id": "OQpxaUboByqS",
        "outputId": "d7f9bae0-3c60-471b-c7bb-ba145d44537d"
      },
      "outputs": [
        {
          "name": "stdout",
          "output_type": "stream",
          "text": [
            "/content/learnopencv/Human-Action-Recognition-Using-Detectron2-And-Lstm\n"
          ]
        }
      ],
      "source": [
        "%cd learnopencv/Human-Action-Recognition-Using-Detectron2-And-Lstm"
      ]
    },
    {
      "cell_type": "code",
      "execution_count": null,
      "metadata": {
        "colab": {
          "base_uri": "https://localhost:8080/"
        },
        "id": "rNzPJTp6giaN",
        "outputId": "d37322e4-95b8-4b61-d985-af7bac22282d"
      },
      "outputs": [
        {
          "name": "stdout",
          "output_type": "stream",
          "text": [
            "Collecting Flask==1.1.2\n",
            "  Using cached Flask-1.1.2-py2.py3-none-any.whl (94 kB)\n",
            "Collecting Flask-Bootstrap==3.3.7.1\n",
            "  Using cached Flask-Bootstrap-3.3.7.1.tar.gz (456 kB)\n",
            "  Preparing metadata (setup.py) ... \u001b[?25l\u001b[?25hdone\n",
            "Collecting Flask-Uploads==0.2.1\n",
            "  Using cached Flask-Uploads-0.2.1.tar.gz (7.6 kB)\n",
            "  Preparing metadata (setup.py) ... \u001b[?25l\u001b[?25hdone\n",
            "Collecting numpy==1.21.6\n",
            "  Using cached numpy-1.21.6-cp39-cp39-manylinux_2_12_x86_64.manylinux2010_x86_64.whl (15.7 MB)\n",
            "\u001b[31mERROR: Could not find a version that satisfies the requirement opencv-python==4.1.2.30 (from versions: 3.4.0.14, 3.4.10.37, 3.4.11.39, 3.4.11.41, 3.4.11.43, 3.4.11.45, 3.4.13.47, 3.4.14.51, 3.4.14.53, 3.4.15.55, 3.4.16.57, 3.4.16.59, 3.4.17.61, 3.4.17.63, 3.4.18.65, 4.3.0.38, 4.4.0.40, 4.4.0.42, 4.4.0.44, 4.4.0.46, 4.5.1.48, 4.5.2.52, 4.5.2.54, 4.5.3.56, 4.5.4.58, 4.5.4.60, 4.5.5.62, 4.5.5.64, 4.6.0.66, 4.7.0.68, 4.7.0.72)\u001b[0m\u001b[31m\n",
            "\u001b[0m\u001b[31mERROR: No matching distribution found for opencv-python==4.1.2.30\u001b[0m\u001b[31m\n",
            "\u001b[0m"
          ]
        }
      ],
      "source": [
        "!pip3 install -r requirements.txt"
      ]
    },
    {
      "cell_type": "code",
      "execution_count": null,
      "metadata": {
        "colab": {
          "base_uri": "https://localhost:8080/"
        },
        "id": "aDdl9h9FXqQL",
        "outputId": "f2d4bfa9-72e5-4615-83c4-6a82e39357ba"
      },
      "outputs": [
        {
          "name": "stdout",
          "output_type": "stream",
          "text": [
            "Looking in indexes: https://pypi.org/simple, https://us-python.pkg.dev/colab-wheels/public/simple/\n",
            "\u001b[31mERROR: opencv_python-4.1.2.30-cp38-cp38-win_amd64.whl is not a supported wheel on this platform.\u001b[0m\u001b[31m\n",
            "\u001b[0m"
          ]
        }
      ],
      "source": [
        "!pip install \"https://files.pythonhosted.org/packages/70/98/b7143877dc53467deea6ba74f9161794db5f23698a6dbded5a9718f89d9c/opencv_python-4.1.2.30-cp38-cp38-win_amd64.whl\""
      ]
    },
    {
      "cell_type": "code",
      "execution_count": null,
      "metadata": {
        "colab": {
          "base_uri": "https://localhost:8080/"
        },
        "id": "rPWYp15CTNaF",
        "outputId": "e29b2810-cdcd-40c2-ae9b-66aefcd30d7b"
      },
      "outputs": [
        {
          "name": "stdout",
          "output_type": "stream",
          "text": [
            "Looking in indexes: https://pypi.org/simple, https://us-python.pkg.dev/colab-wheels/public/simple/\n",
            "Collecting opencv-python==3.4.18.65\n",
            "  Downloading opencv_python-3.4.18.65-cp36-abi3-manylinux_2_17_x86_64.manylinux2014_x86_64.whl (58.4 MB)\n",
            "\u001b[2K     \u001b[90m━━━━━━━━━━━━━━━━━━━━━━━━━━━━━━━━━━━━━━━━\u001b[0m \u001b[32m58.4/58.4 MB\u001b[0m \u001b[31m14.3 MB/s\u001b[0m eta \u001b[36m0:00:00\u001b[0m\n",
            "\u001b[?25hRequirement already satisfied: numpy>=1.14.5 in /usr/local/lib/python3.9/dist-packages (from opencv-python==3.4.18.65) (1.24.2)\n",
            "Installing collected packages: opencv-python\n",
            "  Attempting uninstall: opencv-python\n",
            "    Found existing installation: opencv-python 4.6.0.66\n",
            "    Uninstalling opencv-python-4.6.0.66:\n",
            "      Successfully uninstalled opencv-python-4.6.0.66\n",
            "Successfully installed opencv-python-3.4.18.65\n"
          ]
        }
      ],
      "source": [
        "!pip install opencv-python==3.4.18.65"
      ]
    },
    {
      "cell_type": "code",
      "execution_count": null,
      "metadata": {
        "colab": {
          "base_uri": "https://localhost:8080/"
        },
        "id": "FMFRRY7mPJeG",
        "outputId": "0b078d33-be03-4d8d-a07a-7dc9d3ac48e3"
      },
      "outputs": [
        {
          "name": "stdout",
          "output_type": "stream",
          "text": [
            "Looking in indexes: https://pypi.org/simple, https://us-python.pkg.dev/colab-wheels/public/simple/\n",
            "Collecting Jinja2==3.0.3\n",
            "  Downloading Jinja2-3.0.3-py3-none-any.whl (133 kB)\n",
            "\u001b[2K     \u001b[90m━━━━━━━━━━━━━━━━━━━━━━━━━━━━━━━━━━━━━━━\u001b[0m \u001b[32m133.6/133.6 KB\u001b[0m \u001b[31m8.6 MB/s\u001b[0m eta \u001b[36m0:00:00\u001b[0m\n",
            "\u001b[?25hRequirement already satisfied: MarkupSafe>=2.0 in /usr/local/lib/python3.9/dist-packages (from Jinja2==3.0.3) (2.1.2)\n",
            "Installing collected packages: Jinja2\n",
            "  Attempting uninstall: Jinja2\n",
            "    Found existing installation: Jinja2 3.1.2\n",
            "    Uninstalling Jinja2-3.1.2:\n",
            "      Successfully uninstalled Jinja2-3.1.2\n",
            "Successfully installed Jinja2-3.0.3\n"
          ]
        }
      ],
      "source": [
        "!pip install Jinja2==3.0.3"
      ]
    },
    {
      "cell_type": "code",
      "execution_count": null,
      "metadata": {
        "colab": {
          "base_uri": "https://localhost:8080/"
        },
        "id": "Ayj9N5SlSHH2",
        "outputId": "36042f4c-3784-415e-d821-e9bcab616b80"
      },
      "outputs": [
        {
          "name": "stdout",
          "output_type": "stream",
          "text": [
            "Looking in indexes: https://pypi.org/simple, https://us-python.pkg.dev/colab-wheels/public/simple/\n",
            "Requirement already satisfied: itsdangerous in /usr/local/lib/python3.9/dist-packages (2.1.2)\n"
          ]
        }
      ],
      "source": [
        "!pip install itsdangerous"
      ]
    },
    {
      "cell_type": "code",
      "execution_count": null,
      "metadata": {
        "colab": {
          "base_uri": "https://localhost:8080/"
        },
        "id": "ZQj58CmqUghE",
        "outputId": "3541eaf3-986a-4fa0-d8b1-7688b6fde981"
      },
      "outputs": [
        {
          "name": "stdout",
          "output_type": "stream",
          "text": [
            "Looking in indexes: https://pypi.org/simple, https://us-python.pkg.dev/colab-wheels/public/simple/\n",
            "Requirement already satisfied: flask==2.2.3 in /usr/local/lib/python3.9/dist-packages (2.2.3)\n",
            "Requirement already satisfied: click>=8.0 in /usr/local/lib/python3.9/dist-packages (from flask==2.2.3) (8.1.3)\n",
            "Requirement already satisfied: Jinja2>=3.0 in /usr/local/lib/python3.9/dist-packages (from flask==2.2.3) (3.0.3)\n",
            "Requirement already satisfied: Werkzeug>=2.2.2 in /usr/local/lib/python3.9/dist-packages (from flask==2.2.3) (2.2.3)\n",
            "Requirement already satisfied: itsdangerous>=2.0 in /usr/local/lib/python3.9/dist-packages (from flask==2.2.3) (2.1.2)\n",
            "Requirement already satisfied: importlib-metadata>=3.6.0 in /usr/local/lib/python3.9/dist-packages (from flask==2.2.3) (6.0.0)\n",
            "Requirement already satisfied: zipp>=0.5 in /usr/local/lib/python3.9/dist-packages (from importlib-metadata>=3.6.0->flask==2.2.3) (3.15.0)\n",
            "Requirement already satisfied: MarkupSafe>=2.0 in /usr/local/lib/python3.9/dist-packages (from Jinja2>=3.0->flask==2.2.3) (2.1.2)\n"
          ]
        }
      ],
      "source": [
        "!pip install flask==2.2.3"
      ]
    },
    {
      "cell_type": "code",
      "execution_count": null,
      "metadata": {
        "id": "iMzOQghgg-YK"
      },
      "outputs": [],
      "source": [
        "from flask import Flask"
      ]
    },
    {
      "cell_type": "code",
      "execution_count": null,
      "metadata": {
        "colab": {
          "base_uri": "https://localhost:8080/",
          "height": 1000
        },
        "id": "55mj_OwJg_wN",
        "outputId": "dc33101f-e754-4bf3-fda7-67893efcfbd9"
      },
      "outputs": [
        {
          "name": "stdout",
          "output_type": "stream",
          "text": [
            "Looking in indexes: https://pypi.org/simple, https://us-python.pkg.dev/colab-wheels/public/simple/\n",
            "Looking in links: https://dl.fbaipublicfiles.com/detectron2/wheels/cu101/torch1.8/index.html\n",
            "Collecting detectron2\n",
            "  Downloading https://dl.fbaipublicfiles.com/detectron2/wheels/cu101/torch1.8/detectron2-0.6%2Bcu101-cp39-cp39-linux_x86_64.whl (6.1 MB)\n",
            "\u001b[2K     \u001b[90m━━━━━━━━━━━━━━━━━━━━━━━━━━━━━━━━━━━━━━━━\u001b[0m \u001b[32m6.1/6.1 MB\u001b[0m \u001b[31m1.4 MB/s\u001b[0m eta \u001b[36m0:00:00\u001b[0m\n",
            "\u001b[?25hRequirement already satisfied: tensorboard in /usr/local/lib/python3.9/dist-packages (from detectron2) (2.11.2)\n",
            "Collecting omegaconf>=2.1\n",
            "  Downloading omegaconf-2.3.0-py3-none-any.whl (79 kB)\n",
            "\u001b[2K     \u001b[90m━━━━━━━━━━━━━━━━━━━━━━━━━━━━━━━━━━━━━━━━\u001b[0m \u001b[32m79.5/79.5 KB\u001b[0m \u001b[31m7.3 MB/s\u001b[0m eta \u001b[36m0:00:00\u001b[0m\n",
            "\u001b[?25hCollecting hydra-core>=1.1\n",
            "  Downloading hydra_core-1.3.2-py3-none-any.whl (154 kB)\n",
            "\u001b[2K     \u001b[90m━━━━━━━━━━━━━━━━━━━━━━━━━━━━━━━━━━━━━━\u001b[0m \u001b[32m154.5/154.5 KB\u001b[0m \u001b[31m20.1 MB/s\u001b[0m eta \u001b[36m0:00:00\u001b[0m\n",
            "\u001b[?25hRequirement already satisfied: Pillow>=7.1 in /usr/local/lib/python3.9/dist-packages (from detectron2) (8.4.0)\n",
            "Requirement already satisfied: matplotlib in /usr/local/lib/python3.9/dist-packages (from detectron2) (3.5.3)\n",
            "Requirement already satisfied: tabulate in /usr/local/lib/python3.9/dist-packages (from detectron2) (0.8.10)\n",
            "Requirement already satisfied: future in /usr/local/lib/python3.9/dist-packages (from detectron2) (0.16.0)\n",
            "Requirement already satisfied: cloudpickle in /usr/local/lib/python3.9/dist-packages (from detectron2) (2.2.1)\n",
            "Requirement already satisfied: tqdm>4.29.0 in /usr/local/lib/python3.9/dist-packages (from detectron2) (4.65.0)\n",
            "Collecting iopath<0.1.10,>=0.1.7\n",
            "  Downloading iopath-0.1.9-py3-none-any.whl (27 kB)\n",
            "Requirement already satisfied: termcolor>=1.1 in /usr/local/lib/python3.9/dist-packages (from detectron2) (2.2.0)\n",
            "Requirement already satisfied: pydot in /usr/local/lib/python3.9/dist-packages (from detectron2) (1.3.0)\n",
            "Collecting fvcore<0.1.6,>=0.1.5\n",
            "  Downloading fvcore-0.1.5.post20221221.tar.gz (50 kB)\n",
            "\u001b[2K     \u001b[90m━━━━━━━━━━━━━━━━━━━━━━━━━━━━━━━━━━━━━━━━\u001b[0m \u001b[32m50.2/50.2 KB\u001b[0m \u001b[31m7.9 MB/s\u001b[0m eta \u001b[36m0:00:00\u001b[0m\n",
            "\u001b[?25h  Preparing metadata (setup.py) ... \u001b[?25l\u001b[?25hdone\n",
            "Collecting black==21.4b2\n",
            "  Downloading black-21.4b2-py3-none-any.whl (130 kB)\n",
            "\u001b[2K     \u001b[90m━━━━━━━━━━━━━━━━━━━━━━━━━━━━━━━━━━━━━━\u001b[0m \u001b[32m131.0/131.0 KB\u001b[0m \u001b[31m20.1 MB/s\u001b[0m eta \u001b[36m0:00:00\u001b[0m\n",
            "\u001b[?25hRequirement already satisfied: pycocotools>=2.0.2 in /usr/local/lib/python3.9/dist-packages (from detectron2) (2.0.6)\n",
            "Collecting yacs>=0.1.8\n",
            "  Downloading yacs-0.1.8-py3-none-any.whl (14 kB)\n",
            "Requirement already satisfied: regex>=2020.1.8 in /usr/local/lib/python3.9/dist-packages (from black==21.4b2->detectron2) (2022.6.2)\n",
            "Collecting mypy-extensions>=0.4.3\n",
            "  Downloading mypy_extensions-1.0.0-py3-none-any.whl (4.7 kB)\n",
            "Requirement already satisfied: click>=7.1.2 in /usr/local/lib/python3.9/dist-packages (from black==21.4b2->detectron2) (8.1.3)\n",
            "Collecting pathspec<1,>=0.8.1\n",
            "  Downloading pathspec-0.11.1-py3-none-any.whl (29 kB)\n",
            "Collecting appdirs\n",
            "  Downloading appdirs-1.4.4-py2.py3-none-any.whl (9.6 kB)\n",
            "Requirement already satisfied: toml>=0.10.1 in /usr/local/lib/python3.9/dist-packages (from black==21.4b2->detectron2) (0.10.2)\n",
            "Requirement already satisfied: numpy in /usr/local/lib/python3.9/dist-packages (from fvcore<0.1.6,>=0.1.5->detectron2) (1.22.4)\n",
            "Requirement already satisfied: pyyaml>=5.1 in /usr/local/lib/python3.9/dist-packages (from fvcore<0.1.6,>=0.1.5->detectron2) (6.0)\n",
            "Collecting antlr4-python3-runtime==4.9.*\n",
            "  Downloading antlr4-python3-runtime-4.9.3.tar.gz (117 kB)\n",
            "\u001b[2K     \u001b[90m━━━━━━━━━━━━━━━━━━━━━━━━━━━━━━━━━━━━━━\u001b[0m \u001b[32m117.0/117.0 KB\u001b[0m \u001b[31m16.2 MB/s\u001b[0m eta \u001b[36m0:00:00\u001b[0m\n",
            "\u001b[?25h  Preparing metadata (setup.py) ... \u001b[?25l\u001b[?25hdone\n",
            "Requirement already satisfied: packaging in /usr/local/lib/python3.9/dist-packages (from hydra-core>=1.1->detectron2) (23.0)\n",
            "Collecting portalocker\n",
            "  Downloading portalocker-2.7.0-py2.py3-none-any.whl (15 kB)\n",
            "Requirement already satisfied: kiwisolver>=1.0.1 in /usr/local/lib/python3.9/dist-packages (from matplotlib->detectron2) (1.4.4)\n",
            "Requirement already satisfied: python-dateutil>=2.7 in /usr/local/lib/python3.9/dist-packages (from matplotlib->detectron2) (2.8.2)\n",
            "Requirement already satisfied: cycler>=0.10 in /usr/local/lib/python3.9/dist-packages (from matplotlib->detectron2) (0.11.0)\n",
            "Requirement already satisfied: fonttools>=4.22.0 in /usr/local/lib/python3.9/dist-packages (from matplotlib->detectron2) (4.39.0)\n",
            "Requirement already satisfied: pyparsing>=2.2.1 in /usr/local/lib/python3.9/dist-packages (from matplotlib->detectron2) (3.0.9)\n",
            "Requirement already satisfied: werkzeug>=1.0.1 in /usr/local/lib/python3.9/dist-packages (from tensorboard->detectron2) (2.2.3)\n",
            "Requirement already satisfied: protobuf<4,>=3.9.2 in /usr/local/lib/python3.9/dist-packages (from tensorboard->detectron2) (3.19.6)\n",
            "Requirement already satisfied: tensorboard-plugin-wit>=1.6.0 in /usr/local/lib/python3.9/dist-packages (from tensorboard->detectron2) (1.8.1)\n",
            "Requirement already satisfied: absl-py>=0.4 in /usr/local/lib/python3.9/dist-packages (from tensorboard->detectron2) (1.4.0)\n",
            "Requirement already satisfied: google-auth-oauthlib<0.5,>=0.4.1 in /usr/local/lib/python3.9/dist-packages (from tensorboard->detectron2) (0.4.6)\n",
            "Requirement already satisfied: google-auth<3,>=1.6.3 in /usr/local/lib/python3.9/dist-packages (from tensorboard->detectron2) (2.16.2)\n",
            "Requirement already satisfied: setuptools>=41.0.0 in /usr/local/lib/python3.9/dist-packages (from tensorboard->detectron2) (63.4.3)\n",
            "Requirement already satisfied: grpcio>=1.24.3 in /usr/local/lib/python3.9/dist-packages (from tensorboard->detectron2) (1.51.3)\n",
            "Requirement already satisfied: tensorboard-data-server<0.7.0,>=0.6.0 in /usr/local/lib/python3.9/dist-packages (from tensorboard->detectron2) (0.6.1)\n",
            "Requirement already satisfied: wheel>=0.26 in /usr/local/lib/python3.9/dist-packages (from tensorboard->detectron2) (0.38.4)\n",
            "Requirement already satisfied: markdown>=2.6.8 in /usr/local/lib/python3.9/dist-packages (from tensorboard->detectron2) (3.4.1)\n",
            "Requirement already satisfied: requests<3,>=2.21.0 in /usr/local/lib/python3.9/dist-packages (from tensorboard->detectron2) (2.25.1)\n",
            "Requirement already satisfied: rsa<5,>=3.1.4 in /usr/local/lib/python3.9/dist-packages (from google-auth<3,>=1.6.3->tensorboard->detectron2) (4.9)\n",
            "Requirement already satisfied: pyasn1-modules>=0.2.1 in /usr/local/lib/python3.9/dist-packages (from google-auth<3,>=1.6.3->tensorboard->detectron2) (0.2.8)\n",
            "Requirement already satisfied: six>=1.9.0 in /usr/local/lib/python3.9/dist-packages (from google-auth<3,>=1.6.3->tensorboard->detectron2) (1.15.0)\n",
            "Requirement already satisfied: cachetools<6.0,>=2.0.0 in /usr/local/lib/python3.9/dist-packages (from google-auth<3,>=1.6.3->tensorboard->detectron2) (5.3.0)\n",
            "Requirement already satisfied: requests-oauthlib>=0.7.0 in /usr/local/lib/python3.9/dist-packages (from google-auth-oauthlib<0.5,>=0.4.1->tensorboard->detectron2) (1.3.1)\n",
            "Requirement already satisfied: importlib-metadata>=4.4 in /usr/local/lib/python3.9/dist-packages (from markdown>=2.6.8->tensorboard->detectron2) (6.0.0)\n",
            "Requirement already satisfied: certifi>=2017.4.17 in /usr/local/lib/python3.9/dist-packages (from requests<3,>=2.21.0->tensorboard->detectron2) (2022.12.7)\n",
            "Requirement already satisfied: chardet<5,>=3.0.2 in /usr/local/lib/python3.9/dist-packages (from requests<3,>=2.21.0->tensorboard->detectron2) (4.0.0)\n",
            "Requirement already satisfied: idna<3,>=2.5 in /usr/local/lib/python3.9/dist-packages (from requests<3,>=2.21.0->tensorboard->detectron2) (2.10)\n",
            "Requirement already satisfied: urllib3<1.27,>=1.21.1 in /usr/local/lib/python3.9/dist-packages (from requests<3,>=2.21.0->tensorboard->detectron2) (1.26.15)\n",
            "Requirement already satisfied: MarkupSafe>=2.1.1 in /usr/local/lib/python3.9/dist-packages (from werkzeug>=1.0.1->tensorboard->detectron2) (2.1.2)\n",
            "Requirement already satisfied: zipp>=0.5 in /usr/local/lib/python3.9/dist-packages (from importlib-metadata>=4.4->markdown>=2.6.8->tensorboard->detectron2) (3.15.0)\n",
            "Requirement already satisfied: pyasn1<0.5.0,>=0.4.6 in /usr/local/lib/python3.9/dist-packages (from pyasn1-modules>=0.2.1->google-auth<3,>=1.6.3->tensorboard->detectron2) (0.4.8)\n",
            "Requirement already satisfied: oauthlib>=3.0.0 in /usr/local/lib/python3.9/dist-packages (from requests-oauthlib>=0.7.0->google-auth-oauthlib<0.5,>=0.4.1->tensorboard->detectron2) (3.2.2)\n",
            "Building wheels for collected packages: fvcore, antlr4-python3-runtime\n",
            "  Building wheel for fvcore (setup.py) ... \u001b[?25l\u001b[?25hdone\n",
            "  Created wheel for fvcore: filename=fvcore-0.1.5.post20221221-py3-none-any.whl size=61430 sha256=7dcb952aa57c250c5e565a313a8bc2384a4d93ef506ba0d281cdf7c54413af1f\n",
            "  Stored in directory: /root/.cache/pip/wheels/83/42/02/66178d16e5c44dc26d309931834956baeda371956e86fbd876\n",
            "  Building wheel for antlr4-python3-runtime (setup.py) ... \u001b[?25l\u001b[?25hdone\n",
            "  Created wheel for antlr4-python3-runtime: filename=antlr4_python3_runtime-4.9.3-py3-none-any.whl size=144573 sha256=4d674edf72b2d0d6414f2c2a1ca2cef5de33d66e345137a9008c29e31e65c965\n",
            "  Stored in directory: /root/.cache/pip/wheels/23/cf/80/f3efa822e6ab23277902ee9165fe772eeb1dfb8014f359020a\n",
            "Successfully built fvcore antlr4-python3-runtime\n",
            "Installing collected packages: appdirs, antlr4-python3-runtime, yacs, portalocker, pathspec, omegaconf, mypy-extensions, iopath, hydra-core, black, fvcore, detectron2\n",
            "Successfully installed antlr4-python3-runtime-4.9.3 appdirs-1.4.4 black-21.4b2 detectron2-0.6+cu101 fvcore-0.1.5.post20221221 hydra-core-1.3.2 iopath-0.1.9 mypy-extensions-1.0.0 omegaconf-2.3.0 pathspec-0.11.1 portalocker-2.7.0 yacs-0.1.8\n"
          ]
        },
        {
          "data": {
            "application/vnd.colab-display-data+json": {
              "pip_warning": {
                "packages": [
                  "pydevd_plugins"
                ]
              }
            }
          },
          "metadata": {},
          "output_type": "display_data"
        }
      ],
      "source": [
        "import torch\n",
        "#assert torch.__version__.startswith(\"1.8\")\n",
        "!pip install detectron2 -f https://dl.fbaipublicfiles.com/detectron2/wheels/cu101/torch1.8/index.html"
      ]
    },
    {
      "cell_type": "code",
      "source": [
        "!if [ ! -f ./ngrok ]; then \\\n",
        " wget https://bin.equinox.io/c/4VmDzA7iaHb/ngrok-stable-linux-amd64.zip; \\\n",
        " unzip -o ngrok-stable-linux-amd64.zip; \\\n",
        " fi\n",
        " # Downloading ngrok for tunneling."
      ],
      "metadata": {
        "id": "kYGj6-ev43Uo"
      },
      "execution_count": null,
      "outputs": []
    },
    {
      "cell_type": "code",
      "execution_count": null,
      "metadata": {
        "id": "yGGCGxmNhIBR"
      },
      "outputs": [],
      "source": [
        "# Then starting a Web Server.\n",
        "port = 5000\n",
        "!pkill ngrok\n",
        "!kill $(ps x | grep -v grep | grep http.server | awk '{print $1}') 2>/dev/null\n",
        "\n",
        "get_ipython().system_raw(\n",
        "    'python app.py && python3 -m http.server {} &'\n",
        "    .format(port)\n",
        ")\n",
        "get_ipython().system_raw('./ngrok http {} &'.format(port)) #Relaying the port using ngrok"
      ]
    },
    {
      "cell_type": "code",
      "execution_count": null,
      "metadata": {
        "colab": {
          "base_uri": "https://localhost:8080/",
          "height": 36
        },
        "id": "JjbYi5CkhSMj",
        "outputId": "dd1851e3-aa4a-4bb8-914a-577b098e6ad8"
      },
      "outputs": [
        {
          "data": {
            "application/vnd.google.colaboratory.intrinsic+json": {
              "type": "string"
            },
            "text/plain": [
              "'https://306f-34-141-234-89.ngrok.io'"
            ]
          },
          "execution_count": 13,
          "metadata": {},
          "output_type": "execute_result"
        }
      ],
      "source": [
        "# Getting the public address from localhost:4040 of web server\n",
        "import time, urllib, json\n",
        "import urllib.request\n",
        "time.sleep(1)\n",
        "ngrok_data = json.load(\n",
        "    urllib.request.urlopen('http://localhost:4040/api/tunnels'))\n",
        "ngrok_data['tunnels'][0]['public_url']"
      ]
    },
    {
      "cell_type": "code",
      "execution_count": null,
      "metadata": {
        "colab": {
          "base_uri": "https://localhost:8080/"
        },
        "id": "gB-BA_u8hhOc",
        "outputId": "1518b211-641d-48ce-f278-c1ce1cf07923"
      },
      "outputs": [
        {
          "name": "stdout",
          "output_type": "stream",
          "text": [
            "nvcc: NVIDIA (R) Cuda compiler driver\n",
            "Copyright (c) 2005-2022 NVIDIA Corporation\n",
            "Built on Wed_Sep_21_10:33:58_PDT_2022\n",
            "Cuda compilation tools, release 11.8, V11.8.89\n",
            "Build cuda_11.8.r11.8/compiler.31833905_0\n"
          ]
        }
      ],
      "source": [
        "!nvcc --version"
      ]
    },
    {
      "cell_type": "code",
      "execution_count": null,
      "metadata": {
        "colab": {
          "base_uri": "https://localhost:8080/"
        },
        "id": "Q5-yBzAshi3T",
        "outputId": "d241d971-79f5-40cc-ff73-6944a69b0965"
      },
      "outputs": [
        {
          "name": "stdout",
          "output_type": "stream",
          "text": [
            "Looking in indexes: https://pypi.org/simple, https://us-python.pkg.dev/colab-wheels/public/simple/\n",
            "Collecting pytorch\n",
            "  Downloading pytorch-1.0.2.tar.gz (689 bytes)\n",
            "  Preparing metadata (setup.py) ... \u001b[?25l\u001b[?25hdone\n",
            "Requirement already satisfied: torchvision in /usr/local/lib/python3.9/dist-packages (0.14.1+cu116)\n",
            "Requirement already satisfied: requests in /usr/local/lib/python3.9/dist-packages (from torchvision) (2.25.1)\n",
            "Requirement already satisfied: numpy in /usr/local/lib/python3.9/dist-packages (from torchvision) (1.22.4)\n",
            "Requirement already satisfied: pillow!=8.3.*,>=5.3.0 in /usr/local/lib/python3.9/dist-packages (from torchvision) (8.4.0)\n",
            "Requirement already satisfied: torch==1.13.1 in /usr/local/lib/python3.9/dist-packages (from torchvision) (1.13.1+cu116)\n",
            "Requirement already satisfied: typing-extensions in /usr/local/lib/python3.9/dist-packages (from torchvision) (4.5.0)\n",
            "Requirement already satisfied: idna<3,>=2.5 in /usr/local/lib/python3.9/dist-packages (from requests->torchvision) (2.10)\n",
            "Requirement already satisfied: urllib3<1.27,>=1.21.1 in /usr/local/lib/python3.9/dist-packages (from requests->torchvision) (1.26.15)\n",
            "Requirement already satisfied: chardet<5,>=3.0.2 in /usr/local/lib/python3.9/dist-packages (from requests->torchvision) (4.0.0)\n",
            "Requirement already satisfied: certifi>=2017.4.17 in /usr/local/lib/python3.9/dist-packages (from requests->torchvision) (2022.12.7)\n",
            "Building wheels for collected packages: pytorch\n",
            "  \u001b[1;31merror\u001b[0m: \u001b[1msubprocess-exited-with-error\u001b[0m\n",
            "  \n",
            "  \u001b[31m×\u001b[0m \u001b[32mpython setup.py bdist_wheel\u001b[0m did not run successfully.\n",
            "  \u001b[31m│\u001b[0m exit code: \u001b[1;36m1\u001b[0m\n",
            "  \u001b[31m╰─>\u001b[0m See above for output.\n",
            "  \n",
            "  \u001b[1;35mnote\u001b[0m: This error originates from a subprocess, and is likely not a problem with pip.\n",
            "  Building wheel for pytorch (setup.py) ... \u001b[?25lerror\n",
            "\u001b[31m  ERROR: Failed building wheel for pytorch\u001b[0m\u001b[31m\n",
            "\u001b[0m\u001b[?25h  Running setup.py clean for pytorch\n",
            "Failed to build pytorch\n",
            "Installing collected packages: pytorch\n",
            "  \u001b[1;31merror\u001b[0m: \u001b[1msubprocess-exited-with-error\u001b[0m\n",
            "  \n",
            "  \u001b[31m×\u001b[0m \u001b[32mRunning setup.py install for pytorch\u001b[0m did not run successfully.\n",
            "  \u001b[31m│\u001b[0m exit code: \u001b[1;36m1\u001b[0m\n",
            "  \u001b[31m╰─>\u001b[0m See above for output.\n",
            "  \n",
            "  \u001b[1;35mnote\u001b[0m: This error originates from a subprocess, and is likely not a problem with pip.\n",
            "  Running setup.py install for pytorch ... \u001b[?25l\u001b[?25herror\n",
            "\u001b[1;31merror\u001b[0m: \u001b[1mlegacy-install-failure\u001b[0m\n",
            "\n",
            "\u001b[31m×\u001b[0m Encountered error while trying to install package.\n",
            "\u001b[31m╰─>\u001b[0m pytorch\n",
            "\n",
            "\u001b[1;35mnote\u001b[0m: This is an issue with the package mentioned above, not pip.\n",
            "\u001b[1;36mhint\u001b[0m: See above for output from the failure.\n"
          ]
        }
      ],
      "source": [
        "!pip install pytorch torchvision"
      ]
    },
    {
      "cell_type": "code",
      "execution_count": null,
      "metadata": {
        "colab": {
          "base_uri": "https://localhost:8080/"
        },
        "id": "PeDOVxKBhx7B",
        "outputId": "2ea3ea12-afb3-4897-e166-4f1fcf756d50"
      },
      "outputs": [
        {
          "name": "stdout",
          "output_type": "stream",
          "text": [
            "Looking in indexes: https://pypi.org/simple, https://us-python.pkg.dev/colab-wheels/public/simple/\n",
            "Collecting flask-ngrok\n",
            "  Downloading flask_ngrok-0.0.25-py3-none-any.whl (3.1 kB)\n",
            "Requirement already satisfied: requests in /usr/local/lib/python3.9/dist-packages (from flask-ngrok) (2.25.1)\n",
            "Requirement already satisfied: Flask>=0.8 in /usr/local/lib/python3.9/dist-packages (from flask-ngrok) (2.2.3)\n",
            "Requirement already satisfied: Werkzeug>=2.2.2 in /usr/local/lib/python3.9/dist-packages (from Flask>=0.8->flask-ngrok) (2.2.3)\n",
            "Requirement already satisfied: click>=8.0 in /usr/local/lib/python3.9/dist-packages (from Flask>=0.8->flask-ngrok) (8.1.3)\n",
            "Requirement already satisfied: Jinja2>=3.0 in /usr/local/lib/python3.9/dist-packages (from Flask>=0.8->flask-ngrok) (3.0.3)\n",
            "Requirement already satisfied: importlib-metadata>=3.6.0 in /usr/local/lib/python3.9/dist-packages (from Flask>=0.8->flask-ngrok) (6.0.0)\n",
            "Requirement already satisfied: itsdangerous>=2.0 in /usr/local/lib/python3.9/dist-packages (from Flask>=0.8->flask-ngrok) (2.1.2)\n",
            "Requirement already satisfied: idna<3,>=2.5 in /usr/local/lib/python3.9/dist-packages (from requests->flask-ngrok) (2.10)\n",
            "Requirement already satisfied: certifi>=2017.4.17 in /usr/local/lib/python3.9/dist-packages (from requests->flask-ngrok) (2022.12.7)\n",
            "Requirement already satisfied: urllib3<1.27,>=1.21.1 in /usr/local/lib/python3.9/dist-packages (from requests->flask-ngrok) (1.26.15)\n",
            "Requirement already satisfied: chardet<5,>=3.0.2 in /usr/local/lib/python3.9/dist-packages (from requests->flask-ngrok) (4.0.0)\n",
            "Requirement already satisfied: zipp>=0.5 in /usr/local/lib/python3.9/dist-packages (from importlib-metadata>=3.6.0->Flask>=0.8->flask-ngrok) (3.15.0)\n",
            "Requirement already satisfied: MarkupSafe>=2.0 in /usr/local/lib/python3.9/dist-packages (from Jinja2>=3.0->Flask>=0.8->flask-ngrok) (2.1.2)\n",
            "Installing collected packages: flask-ngrok\n",
            "Successfully installed flask-ngrok-0.0.25\n",
            "Looking in indexes: https://pypi.org/simple, https://us-python.pkg.dev/colab-wheels/public/simple/\n",
            "Collecting flask-bootstrap\n",
            "  Using cached Flask-Bootstrap-3.3.7.1.tar.gz (456 kB)\n",
            "  Preparing metadata (setup.py) ... \u001b[?25l\u001b[?25hdone\n",
            "Requirement already satisfied: Flask>=0.8 in /usr/local/lib/python3.9/dist-packages (from flask-bootstrap) (2.2.3)\n",
            "Collecting dominate\n",
            "  Downloading dominate-2.7.0-py2.py3-none-any.whl (29 kB)\n",
            "Collecting visitor\n",
            "  Downloading visitor-0.1.3.tar.gz (3.3 kB)\n",
            "  Preparing metadata (setup.py) ... \u001b[?25l\u001b[?25hdone\n",
            "Requirement already satisfied: Jinja2>=3.0 in /usr/local/lib/python3.9/dist-packages (from Flask>=0.8->flask-bootstrap) (3.0.3)\n",
            "Requirement already satisfied: Werkzeug>=2.2.2 in /usr/local/lib/python3.9/dist-packages (from Flask>=0.8->flask-bootstrap) (2.2.3)\n",
            "Requirement already satisfied: itsdangerous>=2.0 in /usr/local/lib/python3.9/dist-packages (from Flask>=0.8->flask-bootstrap) (2.1.2)\n",
            "Requirement already satisfied: click>=8.0 in /usr/local/lib/python3.9/dist-packages (from Flask>=0.8->flask-bootstrap) (8.1.3)\n",
            "Requirement already satisfied: importlib-metadata>=3.6.0 in /usr/local/lib/python3.9/dist-packages (from Flask>=0.8->flask-bootstrap) (6.0.0)\n",
            "Requirement already satisfied: zipp>=0.5 in /usr/local/lib/python3.9/dist-packages (from importlib-metadata>=3.6.0->Flask>=0.8->flask-bootstrap) (3.15.0)\n",
            "Requirement already satisfied: MarkupSafe>=2.0 in /usr/local/lib/python3.9/dist-packages (from Jinja2>=3.0->Flask>=0.8->flask-bootstrap) (2.1.2)\n",
            "Building wheels for collected packages: flask-bootstrap, visitor\n",
            "  Building wheel for flask-bootstrap (setup.py) ... \u001b[?25l\u001b[?25hdone\n",
            "  Created wheel for flask-bootstrap: filename=Flask_Bootstrap-3.3.7.1-py3-none-any.whl size=460122 sha256=15a63bffbfab930daeb0c8a0fb8fc777ace6625c9abf2e10fd99891d28aa336b\n",
            "  Stored in directory: /root/.cache/pip/wheels/bb/41/c0/e09286bce2bca8d80bcaeccf519aa73b9747278e78ca83ce3f\n",
            "  Building wheel for visitor (setup.py) ... \u001b[?25l\u001b[?25hdone\n",
            "  Created wheel for visitor: filename=visitor-0.1.3-py3-none-any.whl size=3945 sha256=df70675e3ea1c54b130a892f1ea9a84c5e6ff90131476faabb5191f8fdc615fa\n",
            "  Stored in directory: /root/.cache/pip/wheels/cd/93/8e/b92d317bbcc888f0bdcd7df644ae49e8e0f1b4f738eec61b82\n",
            "Successfully built flask-bootstrap visitor\n",
            "Installing collected packages: visitor, dominate, flask-bootstrap\n",
            "Successfully installed dominate-2.7.0 flask-bootstrap-3.3.7.1 visitor-0.1.3\n",
            "Looking in indexes: https://pypi.org/simple, https://us-python.pkg.dev/colab-wheels/public/simple/\n",
            "Collecting pyngrok==4.1.1\n",
            "  Downloading pyngrok-4.1.1.tar.gz (18 kB)\n",
            "  Preparing metadata (setup.py) ... \u001b[?25l\u001b[?25hdone\n",
            "Requirement already satisfied: future in /usr/local/lib/python3.9/dist-packages (from pyngrok==4.1.1) (0.16.0)\n",
            "Requirement already satisfied: PyYAML in /usr/local/lib/python3.9/dist-packages (from pyngrok==4.1.1) (6.0)\n",
            "Building wheels for collected packages: pyngrok\n",
            "  Building wheel for pyngrok (setup.py) ... \u001b[?25l\u001b[?25hdone\n",
            "  Created wheel for pyngrok: filename=pyngrok-4.1.1-py3-none-any.whl size=15979 sha256=95726e96a9e965e7c63b9c68265bf510e8229f0773a6ba635d5230b2a25e2db7\n",
            "  Stored in directory: /root/.cache/pip/wheels/89/2d/c2/abe6bcfde6bce368c00ecd73310c11edb672c3eda09a090cfa\n",
            "Successfully built pyngrok\n",
            "Installing collected packages: pyngrok\n",
            "Successfully installed pyngrok-4.1.1\n"
          ]
        }
      ],
      "source": [
        "!pip install flask-ngrok\n",
        "!pip install flask-bootstrap\n",
        "!pip install pyngrok==4.1.1"
      ]
    },
    {
      "cell_type": "code",
      "execution_count": null,
      "metadata": {
        "colab": {
          "base_uri": "https://localhost:8080/"
        },
        "id": "us0tKFZwDbLa",
        "outputId": "64207d3b-7843-4f94-ef8c-fdabe9fc3510"
      },
      "outputs": [
        {
          "name": "stdout",
          "output_type": "stream",
          "text": [
            "Authtoken saved to configuration file: /root/.ngrok2/ngrok.yml\n"
          ]
        }
      ],
      "source": [
        "!ngrok authtoken 2N3hKbpHP9qtMsQQMpQSKKJw3Jj_6qRWkc29wALcF5y7pkwqG"
      ]
    },
    {
      "cell_type": "code",
      "execution_count": null,
      "metadata": {
        "colab": {
          "base_uri": "https://localhost:8080/"
        },
        "id": "VvyxFSDVh_jp",
        "outputId": "d25f16b1-4232-496a-ab65-d72abb38deac"
      },
      "outputs": [
        {
          "name": "stdout",
          "output_type": "stream",
          "text": [
            "Reading package lists... Done\n",
            "Building dependency tree       \n",
            "Reading state information... Done\n",
            "The following additional packages will be installed:\n",
            "  cpp-8 fonts-dejavu-core fonts-dejavu-extra g++-8 gcc-8 gcc-8-base\n",
            "  javascript-common libaccinj64-10.1 libatk-wrapper-java\n",
            "  libatk-wrapper-java-jni libcublas10 libcublaslt10 libcudart10.1 libcufft10\n",
            "  libcufftw10 libcuinj64-10.1 libcupti-dev libcupti-doc libcupti10.1\n",
            "  libcurand10 libcusolver10 libcusolvermg10 libcusparse10 libgail-common\n",
            "  libgail18 libgcc-8-dev libgtk2.0-0 libgtk2.0-bin libgtk2.0-common\n",
            "  libjs-jquery libjs-underscore libmpx2 libncurses5 libnppc10 libnppial10\n",
            "  libnppicc10 libnppicom10 libnppidei10 libnppif10 libnppig10 libnppim10\n",
            "  libnppist10 libnppisu10 libnppitc10 libnpps10 libnvblas10 libnvgraph10\n",
            "  libnvidia-ml-dev libnvjpeg10 libnvrtc10.1 libnvtoolsext1 libnvvm3\n",
            "  libstdc++-8-dev libthrust-dev libvdpau-dev libxxf86dga1 node-html5shiv\n",
            "  nsight-compute nsight-systems nvidia-cuda-dev nvidia-cuda-doc\n",
            "  nvidia-cuda-gdb nvidia-profiler nvidia-visual-profiler openjdk-8-jre\n",
            "  openjdk-8-jre-headless x11-utils\n",
            "Suggested packages:\n",
            "  gcc-8-locales g++-8-multilib gcc-8-doc gcc-8-multilib apache2 | lighttpd\n",
            "  | httpd gvfs libstdc++-8-doc libvdpau-doc nodejs nvidia-driver\n",
            "  | nvidia-tesla-440-driver | nvidia-tesla-418-driver libnss-mdns\n",
            "  fonts-ipafont-gothic fonts-ipafont-mincho fonts-wqy-microhei\n",
            "  fonts-wqy-zenhei fonts-indic mesa-utils\n",
            "Recommended packages:\n",
            "  libnvcuvid1\n",
            "The following NEW packages will be installed:\n",
            "  cpp-8 fonts-dejavu-core fonts-dejavu-extra g++-8 gcc-8 gcc-8-base\n",
            "  javascript-common libaccinj64-10.1 libatk-wrapper-java\n",
            "  libatk-wrapper-java-jni libcublas10 libcublaslt10 libcudart10.1 libcufft10\n",
            "  libcufftw10 libcuinj64-10.1 libcupti-dev libcupti-doc libcupti10.1\n",
            "  libcurand10 libcusolver10 libcusolvermg10 libcusparse10 libgail-common\n",
            "  libgail18 libgcc-8-dev libgtk2.0-0 libgtk2.0-bin libgtk2.0-common\n",
            "  libjs-jquery libjs-underscore libmpx2 libncurses5 libnppc10 libnppial10\n",
            "  libnppicc10 libnppicom10 libnppidei10 libnppif10 libnppig10 libnppim10\n",
            "  libnppist10 libnppisu10 libnppitc10 libnpps10 libnvblas10 libnvgraph10\n",
            "  libnvidia-ml-dev libnvjpeg10 libnvrtc10.1 libnvtoolsext1 libnvvm3\n",
            "  libstdc++-8-dev libthrust-dev libvdpau-dev libxxf86dga1 node-html5shiv\n",
            "  nsight-compute nsight-systems nvidia-cuda-dev nvidia-cuda-doc\n",
            "  nvidia-cuda-gdb nvidia-cuda-toolkit nvidia-profiler nvidia-visual-profiler\n",
            "  openjdk-8-jre openjdk-8-jre-headless x11-utils\n",
            "0 upgraded, 68 newly installed, 0 to remove and 22 not upgraded.\n",
            "Need to get 1,434 MB of archives.\n",
            "After this operation, 3,837 MB of additional disk space will be used.\n",
            "Get:1 http://archive.ubuntu.com/ubuntu focal/universe amd64 gcc-8-base amd64 8.4.0-3ubuntu2 [18.7 kB]\n",
            "Get:2 http://archive.ubuntu.com/ubuntu focal/universe amd64 cpp-8 amd64 8.4.0-3ubuntu2 [8,945 kB]\n",
            "Get:3 http://archive.ubuntu.com/ubuntu focal/main amd64 fonts-dejavu-core all 2.37-1 [1,041 kB]\n",
            "Get:4 http://archive.ubuntu.com/ubuntu focal/main amd64 fonts-dejavu-extra all 2.37-1 [1,953 kB]\n",
            "Get:5 http://archive.ubuntu.com/ubuntu focal/universe amd64 libmpx2 amd64 8.4.0-3ubuntu2 [11.8 kB]\n",
            "Get:6 http://archive.ubuntu.com/ubuntu focal/universe amd64 libgcc-8-dev amd64 8.4.0-3ubuntu2 [2,313 kB]\n",
            "Get:7 http://archive.ubuntu.com/ubuntu focal/universe amd64 gcc-8 amd64 8.4.0-3ubuntu2 [9,833 kB]\n",
            "Get:8 http://archive.ubuntu.com/ubuntu focal/universe amd64 libstdc++-8-dev amd64 8.4.0-3ubuntu2 [1,537 kB]\n",
            "Get:9 http://archive.ubuntu.com/ubuntu focal/universe amd64 g++-8 amd64 8.4.0-3ubuntu2 [10.1 MB]\n",
            "Get:10 http://archive.ubuntu.com/ubuntu focal/main amd64 javascript-common all 11 [6,066 B]\n",
            "Get:11 http://archive.ubuntu.com/ubuntu focal/multiverse amd64 libaccinj64-10.1 amd64 10.1.243-3 [1,893 kB]\n",
            "Get:12 http://archive.ubuntu.com/ubuntu focal/main amd64 libxxf86dga1 amd64 2:1.1.5-0ubuntu1 [12.0 kB]\n",
            "Get:13 http://archive.ubuntu.com/ubuntu focal/main amd64 x11-utils amd64 7.7+5 [199 kB]\n",
            "Get:14 http://archive.ubuntu.com/ubuntu focal/main amd64 libatk-wrapper-java all 0.37.1-1 [53.0 kB]\n",
            "Get:15 http://archive.ubuntu.com/ubuntu focal/main amd64 libatk-wrapper-java-jni amd64 0.37.1-1 [45.1 kB]\n",
            "Get:16 http://archive.ubuntu.com/ubuntu focal/multiverse amd64 libcublaslt10 amd64 10.1.243-3 [9,249 kB]\n",
            "Get:17 http://archive.ubuntu.com/ubuntu focal/multiverse amd64 libcublas10 amd64 10.1.243-3 [29.7 MB]\n",
            "Get:18 http://archive.ubuntu.com/ubuntu focal/multiverse amd64 libcudart10.1 amd64 10.1.243-3 [125 kB]\n",
            "Get:19 http://archive.ubuntu.com/ubuntu focal/multiverse amd64 libcufft10 amd64 10.1.243-3 [85.3 MB]\n",
            "Get:20 http://archive.ubuntu.com/ubuntu focal/multiverse amd64 libcufftw10 amd64 10.1.243-3 [124 kB]\n",
            "Get:21 http://archive.ubuntu.com/ubuntu focal/multiverse amd64 libcuinj64-10.1 amd64 10.1.243-3 [2,030 kB]\n",
            "Get:22 http://archive.ubuntu.com/ubuntu focal/multiverse amd64 libcupti10.1 amd64 10.1.243-3 [4,311 kB]\n",
            "Get:23 http://archive.ubuntu.com/ubuntu focal/multiverse amd64 libcurand10 amd64 10.1.243-3 [39.0 MB]\n",
            "Get:24 http://archive.ubuntu.com/ubuntu focal/multiverse amd64 libcusolver10 amd64 10.1.243-3 [44.5 MB]\n",
            "Get:25 http://archive.ubuntu.com/ubuntu focal/multiverse amd64 libcusolvermg10 amd64 10.1.243-3 [28.1 MB]\n",
            "Get:26 http://archive.ubuntu.com/ubuntu focal/multiverse amd64 libcusparse10 amd64 10.1.243-3 [56.8 MB]\n",
            "Get:27 http://archive.ubuntu.com/ubuntu focal/main amd64 libgtk2.0-common all 2.24.32-4ubuntu4 [126 kB]\n",
            "Get:28 http://archive.ubuntu.com/ubuntu focal/main amd64 libgtk2.0-0 amd64 2.24.32-4ubuntu4 [1,791 kB]\n",
            "Get:29 http://archive.ubuntu.com/ubuntu focal/main amd64 libgail18 amd64 2.24.32-4ubuntu4 [14.7 kB]\n",
            "Get:30 http://archive.ubuntu.com/ubuntu focal/main amd64 libgail-common amd64 2.24.32-4ubuntu4 [116 kB]\n",
            "Get:31 http://archive.ubuntu.com/ubuntu focal/main amd64 libgtk2.0-bin amd64 2.24.32-4ubuntu4 [7,728 B]\n",
            "Get:32 http://archive.ubuntu.com/ubuntu focal/main amd64 libjs-jquery all 3.3.1~dfsg-3 [329 kB]\n",
            "Get:33 http://archive.ubuntu.com/ubuntu focal-updates/main amd64 libjs-underscore all 1.9.1~dfsg-1ubuntu0.20.04.1 [99.5 kB]\n",
            "Get:34 http://archive.ubuntu.com/ubuntu focal/universe amd64 libncurses5 amd64 6.2-0ubuntu2 [96.9 kB]\n",
            "Get:35 http://archive.ubuntu.com/ubuntu focal/multiverse amd64 libnppc10 amd64 10.1.243-3 [123 kB]\n",
            "Get:36 http://archive.ubuntu.com/ubuntu focal/multiverse amd64 libnppial10 amd64 10.1.243-3 [3,667 kB]\n",
            "Get:37 http://archive.ubuntu.com/ubuntu focal/multiverse amd64 libnppicc10 amd64 10.1.243-3 [1,621 kB]\n",
            "Get:38 http://archive.ubuntu.com/ubuntu focal/multiverse amd64 libnppicom10 amd64 10.1.243-3 [539 kB]\n",
            "Get:39 http://archive.ubuntu.com/ubuntu focal/multiverse amd64 libnppidei10 amd64 10.1.243-3 [2,001 kB]\n",
            "Get:40 http://archive.ubuntu.com/ubuntu focal/multiverse amd64 libnppif10 amd64 10.1.243-3 [22.0 MB]\n",
            "Get:41 http://archive.ubuntu.com/ubuntu focal/multiverse amd64 libnppig10 amd64 10.1.243-3 [12.0 MB]\n",
            "Get:42 http://archive.ubuntu.com/ubuntu focal/multiverse amd64 libnppim10 amd64 10.1.243-3 [2,694 kB]\n",
            "Get:43 http://archive.ubuntu.com/ubuntu focal/multiverse amd64 libnppist10 amd64 10.1.243-3 [7,313 kB]\n",
            "Get:44 http://archive.ubuntu.com/ubuntu focal/multiverse amd64 libnppisu10 amd64 10.1.243-3 [116 kB]\n",
            "Get:45 http://archive.ubuntu.com/ubuntu focal/multiverse amd64 libnppitc10 amd64 10.1.243-3 [802 kB]\n",
            "Get:46 http://archive.ubuntu.com/ubuntu focal/multiverse amd64 libnpps10 amd64 10.1.243-3 [2,970 kB]\n",
            "Get:47 http://archive.ubuntu.com/ubuntu focal/multiverse amd64 libnvblas10 amd64 10.1.243-3 [129 kB]\n",
            "Get:48 http://archive.ubuntu.com/ubuntu focal/multiverse amd64 libnvgraph10 amd64 10.1.243-3 [44.5 MB]\n",
            "Get:49 http://archive.ubuntu.com/ubuntu focal/multiverse amd64 libnvidia-ml-dev amd64 10.1.243-3 [58.1 kB]\n",
            "Get:50 http://archive.ubuntu.com/ubuntu focal/multiverse amd64 libnvjpeg10 amd64 10.1.243-3 [1,227 kB]\n",
            "Get:51 http://archive.ubuntu.com/ubuntu focal/multiverse amd64 libnvrtc10.1 amd64 10.1.243-3 [6,307 kB]\n",
            "Get:52 http://archive.ubuntu.com/ubuntu focal/main amd64 libvdpau-dev amd64 1.3-1ubuntu2 [37.3 kB]\n",
            "Get:53 http://archive.ubuntu.com/ubuntu focal/universe amd64 node-html5shiv all 3.7.3+dfsg-3 [12.9 kB]\n",
            "Get:54 http://archive.ubuntu.com/ubuntu focal/multiverse amd64 nsight-compute amd64 10.1.243-3 [196 MB]\n",
            "Get:55 http://archive.ubuntu.com/ubuntu focal/multiverse amd64 nsight-systems amd64 10.1.243-3 [71.4 MB]\n",
            "Get:56 http://archive.ubuntu.com/ubuntu focal-updates/universe amd64 openjdk-8-jre-headless amd64 8u362-ga-0ubuntu1~20.04.1 [28.2 MB]\n",
            "Get:57 http://archive.ubuntu.com/ubuntu focal-updates/universe amd64 openjdk-8-jre amd64 8u362-ga-0ubuntu1~20.04.1 [69.9 kB]\n",
            "Get:58 http://archive.ubuntu.com/ubuntu focal/multiverse amd64 libcupti-dev amd64 10.1.243-3 [4,779 kB]\n",
            "Get:59 http://archive.ubuntu.com/ubuntu focal/multiverse amd64 libcupti-doc all 10.1.243-3 [2,117 kB]\n",
            "Get:60 http://archive.ubuntu.com/ubuntu focal/multiverse amd64 libnvtoolsext1 amd64 10.1.243-3 [25.1 kB]\n",
            "Get:61 http://archive.ubuntu.com/ubuntu focal/multiverse amd64 libnvvm3 amd64 10.1.243-3 [4,436 kB]\n",
            "Get:62 http://archive.ubuntu.com/ubuntu focal/multiverse amd64 libthrust-dev all 1.9.5-1 [526 kB]\n",
            "Get:63 http://archive.ubuntu.com/ubuntu focal/multiverse amd64 nvidia-cuda-dev amd64 10.1.243-3 [420 MB]\n",
            "Get:64 http://archive.ubuntu.com/ubuntu focal/multiverse amd64 nvidia-cuda-doc all 10.1.243-3 [102 MB]\n",
            "Get:65 http://archive.ubuntu.com/ubuntu focal/multiverse amd64 nvidia-cuda-gdb amd64 10.1.243-3 [2,722 kB]\n",
            "Get:66 http://archive.ubuntu.com/ubuntu focal/multiverse amd64 nvidia-profiler amd64 10.1.243-3 [2,673 kB]\n",
            "Get:67 http://archive.ubuntu.com/ubuntu focal/multiverse amd64 nvidia-cuda-toolkit amd64 10.1.243-3 [35.0 MB]\n",
            "Get:68 http://archive.ubuntu.com/ubuntu focal/multiverse amd64 nvidia-visual-profiler amd64 10.1.243-3 [115 MB]\n",
            "Fetched 1,434 MB in 19s (75.9 MB/s)\n",
            "debconf: unable to initialize frontend: Dialog\n",
            "debconf: (No usable dialog-like program is installed, so the dialog based frontend cannot be used. at /usr/share/perl5/Debconf/FrontEnd/Dialog.pm line 76, <> line 68.)\n",
            "debconf: falling back to frontend: Readline\n",
            "debconf: unable to initialize frontend: Readline\n",
            "debconf: (This frontend requires a controlling tty.)\n",
            "debconf: falling back to frontend: Teletype\n",
            "dpkg-preconfigure: unable to re-open stdin: \n",
            "Selecting previously unselected package gcc-8-base:amd64.\n",
            "(Reading database ... 128276 files and directories currently installed.)\n",
            "Preparing to unpack .../00-gcc-8-base_8.4.0-3ubuntu2_amd64.deb ...\n",
            "Unpacking gcc-8-base:amd64 (8.4.0-3ubuntu2) ...\n",
            "Selecting previously unselected package cpp-8.\n",
            "Preparing to unpack .../01-cpp-8_8.4.0-3ubuntu2_amd64.deb ...\n",
            "Unpacking cpp-8 (8.4.0-3ubuntu2) ...\n",
            "Selecting previously unselected package fonts-dejavu-core.\n",
            "Preparing to unpack .../02-fonts-dejavu-core_2.37-1_all.deb ...\n",
            "Unpacking fonts-dejavu-core (2.37-1) ...\n",
            "Selecting previously unselected package fonts-dejavu-extra.\n",
            "Preparing to unpack .../03-fonts-dejavu-extra_2.37-1_all.deb ...\n",
            "Unpacking fonts-dejavu-extra (2.37-1) ...\n",
            "Selecting previously unselected package libmpx2:amd64.\n",
            "Preparing to unpack .../04-libmpx2_8.4.0-3ubuntu2_amd64.deb ...\n",
            "Unpacking libmpx2:amd64 (8.4.0-3ubuntu2) ...\n",
            "Selecting previously unselected package libgcc-8-dev:amd64.\n",
            "Preparing to unpack .../05-libgcc-8-dev_8.4.0-3ubuntu2_amd64.deb ...\n",
            "Unpacking libgcc-8-dev:amd64 (8.4.0-3ubuntu2) ...\n",
            "Selecting previously unselected package gcc-8.\n",
            "Preparing to unpack .../06-gcc-8_8.4.0-3ubuntu2_amd64.deb ...\n",
            "Unpacking gcc-8 (8.4.0-3ubuntu2) ...\n",
            "Selecting previously unselected package libstdc++-8-dev:amd64.\n",
            "Preparing to unpack .../07-libstdc++-8-dev_8.4.0-3ubuntu2_amd64.deb ...\n",
            "Unpacking libstdc++-8-dev:amd64 (8.4.0-3ubuntu2) ...\n",
            "Selecting previously unselected package g++-8.\n",
            "Preparing to unpack .../08-g++-8_8.4.0-3ubuntu2_amd64.deb ...\n",
            "Unpacking g++-8 (8.4.0-3ubuntu2) ...\n",
            "Selecting previously unselected package javascript-common.\n",
            "Preparing to unpack .../09-javascript-common_11_all.deb ...\n",
            "Unpacking javascript-common (11) ...\n",
            "Selecting previously unselected package libaccinj64-10.1:amd64.\n",
            "Preparing to unpack .../10-libaccinj64-10.1_10.1.243-3_amd64.deb ...\n",
            "Unpacking libaccinj64-10.1:amd64 (10.1.243-3) ...\n",
            "Selecting previously unselected package libxxf86dga1:amd64.\n",
            "Preparing to unpack .../11-libxxf86dga1_2%3a1.1.5-0ubuntu1_amd64.deb ...\n",
            "Unpacking libxxf86dga1:amd64 (2:1.1.5-0ubuntu1) ...\n",
            "Selecting previously unselected package x11-utils.\n",
            "Preparing to unpack .../12-x11-utils_7.7+5_amd64.deb ...\n",
            "Unpacking x11-utils (7.7+5) ...\n",
            "Selecting previously unselected package libatk-wrapper-java.\n",
            "Preparing to unpack .../13-libatk-wrapper-java_0.37.1-1_all.deb ...\n",
            "Unpacking libatk-wrapper-java (0.37.1-1) ...\n",
            "Selecting previously unselected package libatk-wrapper-java-jni:amd64.\n",
            "Preparing to unpack .../14-libatk-wrapper-java-jni_0.37.1-1_amd64.deb ...\n",
            "Unpacking libatk-wrapper-java-jni:amd64 (0.37.1-1) ...\n",
            "Selecting previously unselected package libcublaslt10:amd64.\n",
            "Preparing to unpack .../15-libcublaslt10_10.1.243-3_amd64.deb ...\n",
            "Unpacking libcublaslt10:amd64 (10.1.243-3) ...\n",
            "Selecting previously unselected package libcublas10:amd64.\n",
            "Preparing to unpack .../16-libcublas10_10.1.243-3_amd64.deb ...\n",
            "Unpacking libcublas10:amd64 (10.1.243-3) ...\n",
            "Selecting previously unselected package libcudart10.1:amd64.\n",
            "Preparing to unpack .../17-libcudart10.1_10.1.243-3_amd64.deb ...\n",
            "Unpacking libcudart10.1:amd64 (10.1.243-3) ...\n",
            "Selecting previously unselected package libcufft10:amd64.\n",
            "Preparing to unpack .../18-libcufft10_10.1.243-3_amd64.deb ...\n",
            "Unpacking libcufft10:amd64 (10.1.243-3) ...\n",
            "Selecting previously unselected package libcufftw10:amd64.\n",
            "Preparing to unpack .../19-libcufftw10_10.1.243-3_amd64.deb ...\n",
            "Unpacking libcufftw10:amd64 (10.1.243-3) ...\n",
            "Selecting previously unselected package libcuinj64-10.1:amd64.\n",
            "Preparing to unpack .../20-libcuinj64-10.1_10.1.243-3_amd64.deb ...\n",
            "Unpacking libcuinj64-10.1:amd64 (10.1.243-3) ...\n",
            "Selecting previously unselected package libcupti10.1:amd64.\n",
            "Preparing to unpack .../21-libcupti10.1_10.1.243-3_amd64.deb ...\n",
            "Unpacking libcupti10.1:amd64 (10.1.243-3) ...\n",
            "Selecting previously unselected package libcurand10:amd64.\n",
            "Preparing to unpack .../22-libcurand10_10.1.243-3_amd64.deb ...\n",
            "Unpacking libcurand10:amd64 (10.1.243-3) ...\n",
            "Selecting previously unselected package libcusolver10:amd64.\n",
            "Preparing to unpack .../23-libcusolver10_10.1.243-3_amd64.deb ...\n",
            "Unpacking libcusolver10:amd64 (10.1.243-3) ...\n",
            "Selecting previously unselected package libcusolvermg10:amd64.\n",
            "Preparing to unpack .../24-libcusolvermg10_10.1.243-3_amd64.deb ...\n",
            "Unpacking libcusolvermg10:amd64 (10.1.243-3) ...\n",
            "Selecting previously unselected package libcusparse10:amd64.\n",
            "Preparing to unpack .../25-libcusparse10_10.1.243-3_amd64.deb ...\n",
            "Unpacking libcusparse10:amd64 (10.1.243-3) ...\n",
            "Selecting previously unselected package libgtk2.0-common.\n",
            "Preparing to unpack .../26-libgtk2.0-common_2.24.32-4ubuntu4_all.deb ...\n",
            "Unpacking libgtk2.0-common (2.24.32-4ubuntu4) ...\n",
            "Selecting previously unselected package libgtk2.0-0:amd64.\n",
            "Preparing to unpack .../27-libgtk2.0-0_2.24.32-4ubuntu4_amd64.deb ...\n",
            "Unpacking libgtk2.0-0:amd64 (2.24.32-4ubuntu4) ...\n",
            "Selecting previously unselected package libgail18:amd64.\n",
            "Preparing to unpack .../28-libgail18_2.24.32-4ubuntu4_amd64.deb ...\n",
            "Unpacking libgail18:amd64 (2.24.32-4ubuntu4) ...\n",
            "Selecting previously unselected package libgail-common:amd64.\n",
            "Preparing to unpack .../29-libgail-common_2.24.32-4ubuntu4_amd64.deb ...\n",
            "Unpacking libgail-common:amd64 (2.24.32-4ubuntu4) ...\n",
            "Selecting previously unselected package libgtk2.0-bin.\n",
            "Preparing to unpack .../30-libgtk2.0-bin_2.24.32-4ubuntu4_amd64.deb ...\n",
            "Unpacking libgtk2.0-bin (2.24.32-4ubuntu4) ...\n",
            "Selecting previously unselected package libjs-jquery.\n",
            "Preparing to unpack .../31-libjs-jquery_3.3.1~dfsg-3_all.deb ...\n",
            "Unpacking libjs-jquery (3.3.1~dfsg-3) ...\n",
            "Selecting previously unselected package libjs-underscore.\n",
            "Preparing to unpack .../32-libjs-underscore_1.9.1~dfsg-1ubuntu0.20.04.1_all.deb ...\n",
            "Unpacking libjs-underscore (1.9.1~dfsg-1ubuntu0.20.04.1) ...\n",
            "Selecting previously unselected package libncurses5:amd64.\n",
            "Preparing to unpack .../33-libncurses5_6.2-0ubuntu2_amd64.deb ...\n",
            "Unpacking libncurses5:amd64 (6.2-0ubuntu2) ...\n",
            "Selecting previously unselected package libnppc10:amd64.\n",
            "Preparing to unpack .../34-libnppc10_10.1.243-3_amd64.deb ...\n",
            "Unpacking libnppc10:amd64 (10.1.243-3) ...\n",
            "Selecting previously unselected package libnppial10:amd64.\n",
            "Preparing to unpack .../35-libnppial10_10.1.243-3_amd64.deb ...\n",
            "Unpacking libnppial10:amd64 (10.1.243-3) ...\n",
            "Selecting previously unselected package libnppicc10:amd64.\n",
            "Preparing to unpack .../36-libnppicc10_10.1.243-3_amd64.deb ...\n",
            "Unpacking libnppicc10:amd64 (10.1.243-3) ...\n",
            "Selecting previously unselected package libnppicom10:amd64.\n",
            "Preparing to unpack .../37-libnppicom10_10.1.243-3_amd64.deb ...\n",
            "Unpacking libnppicom10:amd64 (10.1.243-3) ...\n",
            "Selecting previously unselected package libnppidei10:amd64.\n",
            "Preparing to unpack .../38-libnppidei10_10.1.243-3_amd64.deb ...\n",
            "Unpacking libnppidei10:amd64 (10.1.243-3) ...\n",
            "Selecting previously unselected package libnppif10:amd64.\n",
            "Preparing to unpack .../39-libnppif10_10.1.243-3_amd64.deb ...\n",
            "Unpacking libnppif10:amd64 (10.1.243-3) ...\n",
            "Selecting previously unselected package libnppig10:amd64.\n",
            "Preparing to unpack .../40-libnppig10_10.1.243-3_amd64.deb ...\n",
            "Unpacking libnppig10:amd64 (10.1.243-3) ...\n",
            "Selecting previously unselected package libnppim10:amd64.\n",
            "Preparing to unpack .../41-libnppim10_10.1.243-3_amd64.deb ...\n",
            "Unpacking libnppim10:amd64 (10.1.243-3) ...\n",
            "Selecting previously unselected package libnppist10:amd64.\n",
            "Preparing to unpack .../42-libnppist10_10.1.243-3_amd64.deb ...\n",
            "Unpacking libnppist10:amd64 (10.1.243-3) ...\n",
            "Selecting previously unselected package libnppisu10:amd64.\n",
            "Preparing to unpack .../43-libnppisu10_10.1.243-3_amd64.deb ...\n",
            "Unpacking libnppisu10:amd64 (10.1.243-3) ...\n",
            "Selecting previously unselected package libnppitc10:amd64.\n",
            "Preparing to unpack .../44-libnppitc10_10.1.243-3_amd64.deb ...\n",
            "Unpacking libnppitc10:amd64 (10.1.243-3) ...\n",
            "Selecting previously unselected package libnpps10:amd64.\n",
            "Preparing to unpack .../45-libnpps10_10.1.243-3_amd64.deb ...\n",
            "Unpacking libnpps10:amd64 (10.1.243-3) ...\n",
            "Selecting previously unselected package libnvblas10:amd64.\n",
            "Preparing to unpack .../46-libnvblas10_10.1.243-3_amd64.deb ...\n",
            "Unpacking libnvblas10:amd64 (10.1.243-3) ...\n",
            "Selecting previously unselected package libnvgraph10:amd64.\n",
            "Preparing to unpack .../47-libnvgraph10_10.1.243-3_amd64.deb ...\n",
            "Unpacking libnvgraph10:amd64 (10.1.243-3) ...\n",
            "Selecting previously unselected package libnvidia-ml-dev.\n",
            "Preparing to unpack .../48-libnvidia-ml-dev_10.1.243-3_amd64.deb ...\n",
            "Unpacking libnvidia-ml-dev (10.1.243-3) ...\n",
            "Selecting previously unselected package libnvjpeg10:amd64.\n",
            "Preparing to unpack .../49-libnvjpeg10_10.1.243-3_amd64.deb ...\n",
            "Unpacking libnvjpeg10:amd64 (10.1.243-3) ...\n",
            "Selecting previously unselected package libnvrtc10.1:amd64.\n",
            "Preparing to unpack .../50-libnvrtc10.1_10.1.243-3_amd64.deb ...\n",
            "Unpacking libnvrtc10.1:amd64 (10.1.243-3) ...\n",
            "Selecting previously unselected package libvdpau-dev:amd64.\n",
            "Preparing to unpack .../51-libvdpau-dev_1.3-1ubuntu2_amd64.deb ...\n",
            "Unpacking libvdpau-dev:amd64 (1.3-1ubuntu2) ...\n",
            "Selecting previously unselected package node-html5shiv.\n",
            "Preparing to unpack .../52-node-html5shiv_3.7.3+dfsg-3_all.deb ...\n",
            "Unpacking node-html5shiv (3.7.3+dfsg-3) ...\n",
            "Selecting previously unselected package nsight-compute.\n",
            "Preparing to unpack .../53-nsight-compute_10.1.243-3_amd64.deb ...\n",
            "Unpacking nsight-compute (10.1.243-3) ...\n",
            "Selecting previously unselected package nsight-systems.\n",
            "Preparing to unpack .../54-nsight-systems_10.1.243-3_amd64.deb ...\n",
            "Unpacking nsight-systems (10.1.243-3) ...\n",
            "Selecting previously unselected package openjdk-8-jre-headless:amd64.\n",
            "Preparing to unpack .../55-openjdk-8-jre-headless_8u362-ga-0ubuntu1~20.04.1_amd64.deb ...\n",
            "Unpacking openjdk-8-jre-headless:amd64 (8u362-ga-0ubuntu1~20.04.1) ...\n",
            "Selecting previously unselected package openjdk-8-jre:amd64.\n",
            "Preparing to unpack .../56-openjdk-8-jre_8u362-ga-0ubuntu1~20.04.1_amd64.deb ...\n",
            "Unpacking openjdk-8-jre:amd64 (8u362-ga-0ubuntu1~20.04.1) ...\n",
            "Selecting previously unselected package libcupti-dev:amd64.\n",
            "Preparing to unpack .../57-libcupti-dev_10.1.243-3_amd64.deb ...\n",
            "Unpacking libcupti-dev:amd64 (10.1.243-3) ...\n",
            "Selecting previously unselected package libcupti-doc.\n",
            "Preparing to unpack .../58-libcupti-doc_10.1.243-3_all.deb ...\n",
            "Unpacking libcupti-doc (10.1.243-3) ...\n",
            "Selecting previously unselected package libnvtoolsext1:amd64.\n",
            "Preparing to unpack .../59-libnvtoolsext1_10.1.243-3_amd64.deb ...\n",
            "Unpacking libnvtoolsext1:amd64 (10.1.243-3) ...\n",
            "Selecting previously unselected package libnvvm3:amd64.\n",
            "Preparing to unpack .../60-libnvvm3_10.1.243-3_amd64.deb ...\n",
            "Unpacking libnvvm3:amd64 (10.1.243-3) ...\n",
            "Selecting previously unselected package libthrust-dev.\n",
            "Preparing to unpack .../61-libthrust-dev_1.9.5-1_all.deb ...\n",
            "Unpacking libthrust-dev (1.9.5-1) ...\n",
            "Selecting previously unselected package nvidia-cuda-dev.\n",
            "Preparing to unpack .../62-nvidia-cuda-dev_10.1.243-3_amd64.deb ...\n",
            "Unpacking nvidia-cuda-dev (10.1.243-3) ...\n",
            "Selecting previously unselected package nvidia-cuda-doc.\n",
            "Preparing to unpack .../63-nvidia-cuda-doc_10.1.243-3_all.deb ...\n",
            "Unpacking nvidia-cuda-doc (10.1.243-3) ...\n",
            "Selecting previously unselected package nvidia-cuda-gdb.\n",
            "Preparing to unpack .../64-nvidia-cuda-gdb_10.1.243-3_amd64.deb ...\n",
            "Unpacking nvidia-cuda-gdb (10.1.243-3) ...\n",
            "Selecting previously unselected package nvidia-profiler.\n",
            "Preparing to unpack .../65-nvidia-profiler_10.1.243-3_amd64.deb ...\n",
            "Unpacking nvidia-profiler (10.1.243-3) ...\n",
            "Selecting previously unselected package nvidia-cuda-toolkit.\n",
            "Preparing to unpack .../66-nvidia-cuda-toolkit_10.1.243-3_amd64.deb ...\n",
            "Unpacking nvidia-cuda-toolkit (10.1.243-3) ...\n",
            "Selecting previously unselected package nvidia-visual-profiler.\n",
            "Preparing to unpack .../67-nvidia-visual-profiler_10.1.243-3_amd64.deb ...\n",
            "Unpacking nvidia-visual-profiler (10.1.243-3) ...\n",
            "Setting up libaccinj64-10.1:amd64 (10.1.243-3) ...\n",
            "Setting up javascript-common (11) ...\n",
            "Setting up libcuinj64-10.1:amd64 (10.1.243-3) ...\n",
            "Setting up libthrust-dev (1.9.5-1) ...\n",
            "Setting up libnvidia-ml-dev (10.1.243-3) ...\n",
            "Setting up libnppc10:amd64 (10.1.243-3) ...\n",
            "Setting up libnppial10:amd64 (10.1.243-3) ...\n",
            "Setting up libnvvm3:amd64 (10.1.243-3) ...\n",
            "Setting up libcusparse10:amd64 (10.1.243-3) ...\n",
            "Setting up libnvrtc10.1:amd64 (10.1.243-3) ...\n",
            "Setting up node-html5shiv (3.7.3+dfsg-3) ...\n",
            "Setting up libxxf86dga1:amd64 (2:1.1.5-0ubuntu1) ...\n",
            "Setting up libcupti10.1:amd64 (10.1.243-3) ...\n",
            "Setting up libnppisu10:amd64 (10.1.243-3) ...\n",
            "Setting up libnppicc10:amd64 (10.1.243-3) ...\n",
            "Setting up libncurses5:amd64 (6.2-0ubuntu2) ...\n",
            "Setting up libnppicom10:amd64 (10.1.243-3) ...\n",
            "Setting up nvidia-profiler (10.1.243-3) ...\n",
            "Setting up libcusolver10:amd64 (10.1.243-3) ...\n",
            "Setting up libnvjpeg10:amd64 (10.1.243-3) ...\n",
            "Setting up libcublaslt10:amd64 (10.1.243-3) ...\n",
            "Setting up openjdk-8-jre-headless:amd64 (8u362-ga-0ubuntu1~20.04.1) ...\n",
            "update-alternatives: using /usr/lib/jvm/java-8-openjdk-amd64/jre/bin/orbd to provide /usr/bin/orbd (orbd) in auto mode\n",
            "update-alternatives: using /usr/lib/jvm/java-8-openjdk-amd64/jre/bin/servertool to provide /usr/bin/servertool (servertool) in auto mode\n",
            "update-alternatives: using /usr/lib/jvm/java-8-openjdk-amd64/jre/bin/tnameserv to provide /usr/bin/tnameserv (tnameserv) in auto mode\n",
            "Setting up libcusolvermg10:amd64 (10.1.243-3) ...\n",
            "Setting up libnpps10:amd64 (10.1.243-3) ...\n",
            "Setting up gcc-8-base:amd64 (8.4.0-3ubuntu2) ...\n",
            "Setting up fonts-dejavu-core (2.37-1) ...\n",
            "Setting up libcudart10.1:amd64 (10.1.243-3) ...\n",
            "Setting up libmpx2:amd64 (8.4.0-3ubuntu2) ...\n",
            "Setting up libcufft10:amd64 (10.1.243-3) ...\n",
            "Setting up fonts-dejavu-extra (2.37-1) ...\n",
            "Setting up libnppim10:amd64 (10.1.243-3) ...\n",
            "Setting up libnppitc10:amd64 (10.1.243-3) ...\n",
            "Setting up x11-utils (7.7+5) ...\n",
            "Setting up libnppist10:amd64 (10.1.243-3) ...\n",
            "Setting up libgtk2.0-common (2.24.32-4ubuntu4) ...\n",
            "Setting up libvdpau-dev:amd64 (1.3-1ubuntu2) ...\n",
            "Setting up libnvtoolsext1:amd64 (10.1.243-3) ...\n",
            "Setting up libatk-wrapper-java (0.37.1-1) ...\n",
            "Setting up libjs-jquery (3.3.1~dfsg-3) ...\n",
            "Setting up cpp-8 (8.4.0-3ubuntu2) ...\n",
            "Setting up libcurand10:amd64 (10.1.243-3) ...\n",
            "Setting up libnvgraph10:amd64 (10.1.243-3) ...\n",
            "Setting up libjs-underscore (1.9.1~dfsg-1ubuntu0.20.04.1) ...\n",
            "Setting up libnppig10:amd64 (10.1.243-3) ...\n",
            "Setting up libnppidei10:amd64 (10.1.243-3) ...\n",
            "Setting up libnppif10:amd64 (10.1.243-3) ...\n",
            "Setting up libcufftw10:amd64 (10.1.243-3) ...\n",
            "Setting up nvidia-cuda-gdb (10.1.243-3) ...\n",
            "Setting up libcublas10:amd64 (10.1.243-3) ...\n",
            "Setting up libgtk2.0-0:amd64 (2.24.32-4ubuntu4) ...\n",
            "Setting up libcupti-dev:amd64 (10.1.243-3) ...\n",
            "Setting up nsight-compute (10.1.243-3) ...\n",
            "Setting up libcupti-doc (10.1.243-3) ...\n",
            "Setting up libatk-wrapper-java-jni:amd64 (0.37.1-1) ...\n",
            "Setting up libnvblas10:amd64 (10.1.243-3) ...\n",
            "Setting up nvidia-cuda-doc (10.1.243-3) ...\n",
            "Setting up libgcc-8-dev:amd64 (8.4.0-3ubuntu2) ...\n",
            "Setting up libgail18:amd64 (2.24.32-4ubuntu4) ...\n",
            "Setting up libgtk2.0-bin (2.24.32-4ubuntu4) ...\n",
            "Setting up nsight-systems (10.1.243-3) ...\n",
            "Setting up libstdc++-8-dev:amd64 (8.4.0-3ubuntu2) ...\n",
            "Setting up gcc-8 (8.4.0-3ubuntu2) ...\n",
            "Setting up libgail-common:amd64 (2.24.32-4ubuntu4) ...\n",
            "Setting up nvidia-cuda-dev (10.1.243-3) ...\n",
            "Setting up openjdk-8-jre:amd64 (8u362-ga-0ubuntu1~20.04.1) ...\n",
            "update-alternatives: using /usr/lib/jvm/java-8-openjdk-amd64/jre/bin/policytool to provide /usr/bin/policytool (policytool) in auto mode\n",
            "Setting up g++-8 (8.4.0-3ubuntu2) ...\n",
            "Setting up nvidia-visual-profiler (10.1.243-3) ...\n",
            "Setting up nvidia-cuda-toolkit (10.1.243-3) ...\n",
            "Processing triggers for mime-support (3.64ubuntu1) ...\n",
            "Processing triggers for hicolor-icon-theme (0.17-2) ...\n",
            "Processing triggers for libc-bin (2.31-0ubuntu9.9) ...\n",
            "Processing triggers for man-db (2.9.1-1) ...\n",
            "Processing triggers for fontconfig (2.13.1-2ubuntu3) ...\n"
          ]
        }
      ],
      "source": [
        "!sudo apt install nvidia-cuda-toolkit"
      ]
    },
    {
      "cell_type": "code",
      "execution_count": null,
      "metadata": {
        "colab": {
          "base_uri": "https://localhost:8080/"
        },
        "id": "zJXTK3sRDT3Q",
        "outputId": "9ec30f15-58b6-422a-febd-d38351e06cda"
      },
      "outputs": [
        {
          "name": "stdout",
          "output_type": "stream",
          "text": [
            "Found existing installation: numpy 1.22.4\n",
            "Uninstalling numpy-1.22.4:\n",
            "  Would remove:\n",
            "    /usr/local/bin/f2py\n",
            "    /usr/local/bin/f2py3\n",
            "    /usr/local/bin/f2py3.9\n",
            "    /usr/local/lib/python3.9/dist-packages/numpy-1.22.4.dist-info/*\n",
            "    /usr/local/lib/python3.9/dist-packages/numpy.libs/libgfortran-040039e1.so.5.0.0\n",
            "    /usr/local/lib/python3.9/dist-packages/numpy.libs/libopenblas64_p-r0-2f7c42d4.3.18.so\n",
            "    /usr/local/lib/python3.9/dist-packages/numpy.libs/libquadmath-96973f99.so.0.0.0\n",
            "    /usr/local/lib/python3.9/dist-packages/numpy/*\n",
            "Proceed (Y/n)? Y\n",
            "  Successfully uninstalled numpy-1.22.4\n"
          ]
        }
      ],
      "source": [
        "! pip uninstall numpy"
      ]
    },
    {
      "cell_type": "code",
      "execution_count": null,
      "metadata": {
        "colab": {
          "base_uri": "https://localhost:8080/"
        },
        "id": "EINyy3lYesSb",
        "outputId": "5b62e624-9802-42fa-8344-7728f4cd4142"
      },
      "outputs": [
        {
          "name": "stdout",
          "output_type": "stream",
          "text": [
            "Looking in indexes: https://pypi.org/simple, https://us-python.pkg.dev/colab-wheels/public/simple/\n",
            "Collecting numpy\n",
            "  Downloading numpy-1.24.2-cp39-cp39-manylinux_2_17_x86_64.manylinux2014_x86_64.whl (17.3 MB)\n",
            "\u001b[2K     \u001b[90m━━━━━━━━━━━━━━━━━━━━━━━━━━━━━━━━━━━━━━━━\u001b[0m \u001b[32m17.3/17.3 MB\u001b[0m \u001b[31m53.6 MB/s\u001b[0m eta \u001b[36m0:00:00\u001b[0m\n",
            "\u001b[?25hInstalling collected packages: numpy\n",
            "\u001b[31mERROR: pip's dependency resolver does not currently take into account all the packages that are installed. This behaviour is the source of the following dependency conflicts.\n",
            "numba 0.56.4 requires numpy<1.24,>=1.18, but you have numpy 1.24.2 which is incompatible.\u001b[0m\u001b[31m\n",
            "\u001b[0mSuccessfully installed numpy-1.24.2\n"
          ]
        }
      ],
      "source": [
        "! pip install numpy"
      ]
    },
    {
      "cell_type": "code",
      "execution_count": null,
      "metadata": {
        "colab": {
          "base_uri": "https://localhost:8080/"
        },
        "id": "LveGSwXCM4ro",
        "outputId": "f5e88d2e-016c-4882-e6a9-598dff3fd2ab"
      },
      "outputs": [
        {
          "name": "stdout",
          "output_type": "stream",
          "text": [
            "Looking in indexes: https://pypi.org/simple, https://us-python.pkg.dev/colab-wheels/public/simple/\n",
            "Collecting torchmetrics\n",
            "  Downloading torchmetrics-0.11.4-py3-none-any.whl (519 kB)\n",
            "\u001b[2K     \u001b[90m━━━━━━━━━━━━━━━━━━━━━━━━━━━━━━━━━━━━━━\u001b[0m \u001b[32m519.2/519.2 KB\u001b[0m \u001b[31m19.2 MB/s\u001b[0m eta \u001b[36m0:00:00\u001b[0m\n",
            "\u001b[?25hRequirement already satisfied: torch>=1.8.1 in /usr/local/lib/python3.9/dist-packages (from torchmetrics) (1.13.1+cu116)\n",
            "Requirement already satisfied: numpy>=1.17.2 in /usr/local/lib/python3.9/dist-packages (from torchmetrics) (1.24.2)\n",
            "Requirement already satisfied: packaging in /usr/local/lib/python3.9/dist-packages (from torchmetrics) (23.0)\n",
            "Requirement already satisfied: typing-extensions in /usr/local/lib/python3.9/dist-packages (from torch>=1.8.1->torchmetrics) (4.5.0)\n",
            "Installing collected packages: torchmetrics\n",
            "Successfully installed torchmetrics-0.11.4\n"
          ]
        }
      ],
      "source": [
        "!pip install torchmetrics"
      ]
    },
    {
      "cell_type": "code",
      "execution_count": null,
      "metadata": {
        "colab": {
          "base_uri": "https://localhost:8080/"
        },
        "id": "Sv1eOVXSNJyZ",
        "outputId": "77714e6a-2a04-4f13-978f-93ce1eaed846"
      },
      "outputs": [
        {
          "name": "stdout",
          "output_type": "stream",
          "text": [
            "Looking in indexes: https://pypi.org/simple, https://us-python.pkg.dev/colab-wheels/public/simple/\n",
            "Collecting pytorch_lightning\n",
            "  Downloading pytorch_lightning-2.0.0-py3-none-any.whl (715 kB)\n",
            "\u001b[2K     \u001b[90m━━━━━━━━━━━━━━━━━━━━━━━━━━━━━━━━━━━━━━\u001b[0m \u001b[32m715.6/715.6 KB\u001b[0m \u001b[31m26.1 MB/s\u001b[0m eta \u001b[36m0:00:00\u001b[0m\n",
            "\u001b[?25hRequirement already satisfied: tqdm>=4.57.0 in /usr/local/lib/python3.9/dist-packages (from pytorch_lightning) (4.65.0)\n",
            "Requirement already satisfied: typing-extensions>=4.0.0 in /usr/local/lib/python3.9/dist-packages (from pytorch_lightning) (4.5.0)\n",
            "Collecting lightning-utilities>=0.7.0\n",
            "  Downloading lightning_utilities-0.8.0-py3-none-any.whl (20 kB)\n",
            "Requirement already satisfied: torch>=1.11.0 in /usr/local/lib/python3.9/dist-packages (from pytorch_lightning) (1.13.1+cu116)\n",
            "Requirement already satisfied: PyYAML>=5.4 in /usr/local/lib/python3.9/dist-packages (from pytorch_lightning) (6.0)\n",
            "Requirement already satisfied: packaging>=17.1 in /usr/local/lib/python3.9/dist-packages (from pytorch_lightning) (23.0)\n",
            "Requirement already satisfied: torchmetrics>=0.7.0 in /usr/local/lib/python3.9/dist-packages (from pytorch_lightning) (0.11.4)\n",
            "Requirement already satisfied: numpy>=1.17.2 in /usr/local/lib/python3.9/dist-packages (from pytorch_lightning) (1.24.2)\n",
            "Requirement already satisfied: fsspec[http]>2021.06.0 in /usr/local/lib/python3.9/dist-packages (from pytorch_lightning) (2023.3.0)\n",
            "Requirement already satisfied: requests in /usr/local/lib/python3.9/dist-packages (from fsspec[http]>2021.06.0->pytorch_lightning) (2.25.1)\n",
            "Collecting aiohttp!=4.0.0a0,!=4.0.0a1\n",
            "  Downloading aiohttp-3.8.4-cp39-cp39-manylinux_2_17_x86_64.manylinux2014_x86_64.whl (1.0 MB)\n",
            "\u001b[2K     \u001b[90m━━━━━━━━━━━━━━━━━━━━━━━━━━━━━━━━━━━━━━━━\u001b[0m \u001b[32m1.0/1.0 MB\u001b[0m \u001b[31m52.0 MB/s\u001b[0m eta \u001b[36m0:00:00\u001b[0m\n",
            "\u001b[?25hRequirement already satisfied: attrs>=17.3.0 in /usr/local/lib/python3.9/dist-packages (from aiohttp!=4.0.0a0,!=4.0.0a1->fsspec[http]>2021.06.0->pytorch_lightning) (22.2.0)\n",
            "Collecting async-timeout<5.0,>=4.0.0a3\n",
            "  Downloading async_timeout-4.0.2-py3-none-any.whl (5.8 kB)\n",
            "Collecting yarl<2.0,>=1.0\n",
            "  Downloading yarl-1.8.2-cp39-cp39-manylinux_2_17_x86_64.manylinux2014_x86_64.whl (264 kB)\n",
            "\u001b[2K     \u001b[90m━━━━━━━━━━━━━━━━━━━━━━━━━━━━━━━━━━━━━━\u001b[0m \u001b[32m264.6/264.6 KB\u001b[0m \u001b[31m30.1 MB/s\u001b[0m eta \u001b[36m0:00:00\u001b[0m\n",
            "\u001b[?25hCollecting multidict<7.0,>=4.5\n",
            "  Downloading multidict-6.0.4-cp39-cp39-manylinux_2_17_x86_64.manylinux2014_x86_64.whl (114 kB)\n",
            "\u001b[2K     \u001b[90m━━━━━━━━━━━━━━━━━━━━━━━━━━━━━━━━━━━━━━\u001b[0m \u001b[32m114.2/114.2 KB\u001b[0m \u001b[31m14.0 MB/s\u001b[0m eta \u001b[36m0:00:00\u001b[0m\n",
            "\u001b[?25hCollecting charset-normalizer<4.0,>=2.0\n",
            "  Downloading charset_normalizer-3.1.0-cp39-cp39-manylinux_2_17_x86_64.manylinux2014_x86_64.whl (199 kB)\n",
            "\u001b[2K     \u001b[90m━━━━━━━━━━━━━━━━━━━━━━━━━━━━━━━━━━━━━━\u001b[0m \u001b[32m199.2/199.2 KB\u001b[0m \u001b[31m24.3 MB/s\u001b[0m eta \u001b[36m0:00:00\u001b[0m\n",
            "\u001b[?25hCollecting aiosignal>=1.1.2\n",
            "  Downloading aiosignal-1.3.1-py3-none-any.whl (7.6 kB)\n",
            "Collecting frozenlist>=1.1.1\n",
            "  Downloading frozenlist-1.3.3-cp39-cp39-manylinux_2_5_x86_64.manylinux1_x86_64.manylinux_2_17_x86_64.manylinux2014_x86_64.whl (158 kB)\n",
            "\u001b[2K     \u001b[90m━━━━━━━━━━━━━━━━━━━━━━━━━━━━━━━━━━━━━━\u001b[0m \u001b[32m158.8/158.8 KB\u001b[0m \u001b[31m20.4 MB/s\u001b[0m eta \u001b[36m0:00:00\u001b[0m\n",
            "\u001b[?25hRequirement already satisfied: urllib3<1.27,>=1.21.1 in /usr/local/lib/python3.9/dist-packages (from requests->fsspec[http]>2021.06.0->pytorch_lightning) (1.26.15)\n",
            "Requirement already satisfied: certifi>=2017.4.17 in /usr/local/lib/python3.9/dist-packages (from requests->fsspec[http]>2021.06.0->pytorch_lightning) (2022.12.7)\n",
            "Requirement already satisfied: chardet<5,>=3.0.2 in /usr/local/lib/python3.9/dist-packages (from requests->fsspec[http]>2021.06.0->pytorch_lightning) (4.0.0)\n",
            "Requirement already satisfied: idna<3,>=2.5 in /usr/local/lib/python3.9/dist-packages (from requests->fsspec[http]>2021.06.0->pytorch_lightning) (2.10)\n",
            "Installing collected packages: multidict, lightning-utilities, frozenlist, charset-normalizer, async-timeout, yarl, aiosignal, aiohttp, pytorch_lightning\n",
            "Successfully installed aiohttp-3.8.4 aiosignal-1.3.1 async-timeout-4.0.2 charset-normalizer-3.1.0 frozenlist-1.3.3 lightning-utilities-0.8.0 multidict-6.0.4 pytorch_lightning-2.0.0 yarl-1.8.2\n"
          ]
        }
      ],
      "source": [
        "!pip install pytorch_lightning"
      ]
    },
    {
      "cell_type": "code",
      "execution_count": null,
      "metadata": {
        "colab": {
          "base_uri": "https://localhost:8080/"
        },
        "id": "pT41VebjO4Jt",
        "outputId": "8024e12d-90e5-4a80-9efb-87d87445cd87"
      },
      "outputs": [
        {
          "name": "stdout",
          "output_type": "stream",
          "text": [
            "Looking in indexes: https://pypi.org/simple, https://us-python.pkg.dev/colab-wheels/public/simple/\n",
            "Collecting git+https://github.com/facebookresearch/detectron2.git@5aeb252b194b93dc2879b4ac34bc51a31b5aee13\n",
            "  Cloning https://github.com/facebookresearch/detectron2.git (to revision 5aeb252b194b93dc2879b4ac34bc51a31b5aee13) to /tmp/pip-req-build-gmz2ku7t\n",
            "  Running command git clone --filter=blob:none --quiet https://github.com/facebookresearch/detectron2.git /tmp/pip-req-build-gmz2ku7t\n",
            "  Running command git rev-parse -q --verify 'sha^5aeb252b194b93dc2879b4ac34bc51a31b5aee13'\n",
            "  Running command git fetch -q https://github.com/facebookresearch/detectron2.git 5aeb252b194b93dc2879b4ac34bc51a31b5aee13\n",
            "  Running command git checkout -q 5aeb252b194b93dc2879b4ac34bc51a31b5aee13\n",
            "  Resolved https://github.com/facebookresearch/detectron2.git to commit 5aeb252b194b93dc2879b4ac34bc51a31b5aee13\n",
            "  Preparing metadata (setup.py) ... \u001b[?25l\u001b[?25hdone\n",
            "Requirement already satisfied: Pillow>=7.1 in /usr/local/lib/python3.9/dist-packages (from detectron2==0.6) (8.4.0)\n",
            "Requirement already satisfied: matplotlib in /usr/local/lib/python3.9/dist-packages (from detectron2==0.6) (3.5.3)\n",
            "Requirement already satisfied: pycocotools>=2.0.2 in /usr/local/lib/python3.9/dist-packages (from detectron2==0.6) (2.0.6)\n",
            "Requirement already satisfied: termcolor>=1.1 in /usr/local/lib/python3.9/dist-packages (from detectron2==0.6) (2.2.0)\n",
            "Requirement already satisfied: yacs>=0.1.8 in /usr/local/lib/python3.9/dist-packages (from detectron2==0.6) (0.1.8)\n",
            "Requirement already satisfied: tabulate in /usr/local/lib/python3.9/dist-packages (from detectron2==0.6) (0.8.10)\n",
            "Requirement already satisfied: cloudpickle in /usr/local/lib/python3.9/dist-packages (from detectron2==0.6) (2.2.1)\n",
            "Requirement already satisfied: tqdm>4.29.0 in /usr/local/lib/python3.9/dist-packages (from detectron2==0.6) (4.65.0)\n",
            "Requirement already satisfied: tensorboard in /usr/local/lib/python3.9/dist-packages (from detectron2==0.6) (2.11.2)\n",
            "Requirement already satisfied: fvcore<0.1.6,>=0.1.5 in /usr/local/lib/python3.9/dist-packages (from detectron2==0.6) (0.1.5.post20221221)\n",
            "Requirement already satisfied: iopath<0.1.10,>=0.1.7 in /usr/local/lib/python3.9/dist-packages (from detectron2==0.6) (0.1.9)\n",
            "Requirement already satisfied: future in /usr/local/lib/python3.9/dist-packages (from detectron2==0.6) (0.16.0)\n",
            "Requirement already satisfied: pydot in /usr/local/lib/python3.9/dist-packages (from detectron2==0.6) (1.3.0)\n",
            "Requirement already satisfied: omegaconf>=2.1 in /usr/local/lib/python3.9/dist-packages (from detectron2==0.6) (2.3.0)\n",
            "Requirement already satisfied: hydra-core>=1.1 in /usr/local/lib/python3.9/dist-packages (from detectron2==0.6) (1.3.2)\n",
            "Collecting black==22.3.0\n",
            "  Using cached black-22.3.0-cp39-cp39-manylinux_2_17_x86_64.manylinux2014_x86_64.whl (1.5 MB)\n",
            "Collecting timm\n",
            "  Using cached timm-0.6.12-py3-none-any.whl (549 kB)\n",
            "Collecting fairscale\n",
            "  Using cached fairscale-0.4.13.tar.gz (266 kB)\n",
            "  Installing build dependencies ... \u001b[?25l\u001b[?25hdone\n",
            "  Getting requirements to build wheel ... \u001b[?25l\u001b[?25hdone\n",
            "  Installing backend dependencies ... \u001b[?25l\u001b[?25hdone\n",
            "  Preparing metadata (pyproject.toml) ... \u001b[?25l\u001b[?25hdone\n",
            "Requirement already satisfied: packaging in /usr/local/lib/python3.9/dist-packages (from detectron2==0.6) (23.0)\n",
            "Requirement already satisfied: mypy-extensions>=0.4.3 in /usr/local/lib/python3.9/dist-packages (from black==22.3.0->detectron2==0.6) (1.0.0)\n",
            "Requirement already satisfied: click>=8.0.0 in /usr/local/lib/python3.9/dist-packages (from black==22.3.0->detectron2==0.6) (8.1.3)\n",
            "Requirement already satisfied: tomli>=1.1.0 in /usr/local/lib/python3.9/dist-packages (from black==22.3.0->detectron2==0.6) (2.0.1)\n",
            "Requirement already satisfied: typing-extensions>=3.10.0.0 in /usr/local/lib/python3.9/dist-packages (from black==22.3.0->detectron2==0.6) (4.5.0)\n",
            "Requirement already satisfied: pathspec>=0.9.0 in /usr/local/lib/python3.9/dist-packages (from black==22.3.0->detectron2==0.6) (0.11.1)\n",
            "Requirement already satisfied: platformdirs>=2 in /usr/local/lib/python3.9/dist-packages (from black==22.3.0->detectron2==0.6) (3.1.1)\n",
            "Requirement already satisfied: numpy in /usr/local/lib/python3.9/dist-packages (from fvcore<0.1.6,>=0.1.5->detectron2==0.6) (1.24.2)\n",
            "Requirement already satisfied: pyyaml>=5.1 in /usr/local/lib/python3.9/dist-packages (from fvcore<0.1.6,>=0.1.5->detectron2==0.6) (6.0)\n",
            "Requirement already satisfied: antlr4-python3-runtime==4.9.* in /usr/local/lib/python3.9/dist-packages (from hydra-core>=1.1->detectron2==0.6) (4.9.3)\n",
            "Requirement already satisfied: portalocker in /usr/local/lib/python3.9/dist-packages (from iopath<0.1.10,>=0.1.7->detectron2==0.6) (2.7.0)\n",
            "Requirement already satisfied: cycler>=0.10 in /usr/local/lib/python3.9/dist-packages (from matplotlib->detectron2==0.6) (0.11.0)\n",
            "Requirement already satisfied: fonttools>=4.22.0 in /usr/local/lib/python3.9/dist-packages (from matplotlib->detectron2==0.6) (4.39.0)\n",
            "Requirement already satisfied: kiwisolver>=1.0.1 in /usr/local/lib/python3.9/dist-packages (from matplotlib->detectron2==0.6) (1.4.4)\n",
            "Requirement already satisfied: pyparsing>=2.2.1 in /usr/local/lib/python3.9/dist-packages (from matplotlib->detectron2==0.6) (3.0.9)\n",
            "Requirement already satisfied: python-dateutil>=2.7 in /usr/local/lib/python3.9/dist-packages (from matplotlib->detectron2==0.6) (2.8.2)\n",
            "Requirement already satisfied: torch>=1.8.0 in /usr/local/lib/python3.9/dist-packages (from fairscale->detectron2==0.6) (1.13.1+cu116)\n",
            "Requirement already satisfied: tensorboard-plugin-wit>=1.6.0 in /usr/local/lib/python3.9/dist-packages (from tensorboard->detectron2==0.6) (1.8.1)\n",
            "Requirement already satisfied: absl-py>=0.4 in /usr/local/lib/python3.9/dist-packages (from tensorboard->detectron2==0.6) (1.4.0)\n",
            "Requirement already satisfied: werkzeug>=1.0.1 in /usr/local/lib/python3.9/dist-packages (from tensorboard->detectron2==0.6) (2.2.3)\n",
            "Requirement already satisfied: setuptools>=41.0.0 in /usr/local/lib/python3.9/dist-packages (from tensorboard->detectron2==0.6) (63.4.3)\n",
            "Requirement already satisfied: markdown>=2.6.8 in /usr/local/lib/python3.9/dist-packages (from tensorboard->detectron2==0.6) (3.4.1)\n",
            "Requirement already satisfied: requests<3,>=2.21.0 in /usr/local/lib/python3.9/dist-packages (from tensorboard->detectron2==0.6) (2.25.1)\n",
            "Requirement already satisfied: tensorboard-data-server<0.7.0,>=0.6.0 in /usr/local/lib/python3.9/dist-packages (from tensorboard->detectron2==0.6) (0.6.1)\n",
            "Requirement already satisfied: wheel>=0.26 in /usr/local/lib/python3.9/dist-packages (from tensorboard->detectron2==0.6) (0.38.4)\n",
            "Requirement already satisfied: google-auth<3,>=1.6.3 in /usr/local/lib/python3.9/dist-packages (from tensorboard->detectron2==0.6) (2.16.2)\n",
            "Requirement already satisfied: google-auth-oauthlib<0.5,>=0.4.1 in /usr/local/lib/python3.9/dist-packages (from tensorboard->detectron2==0.6) (0.4.6)\n",
            "Requirement already satisfied: protobuf<4,>=3.9.2 in /usr/local/lib/python3.9/dist-packages (from tensorboard->detectron2==0.6) (3.19.6)\n",
            "Requirement already satisfied: grpcio>=1.24.3 in /usr/local/lib/python3.9/dist-packages (from tensorboard->detectron2==0.6) (1.51.3)\n",
            "Requirement already satisfied: torchvision in /usr/local/lib/python3.9/dist-packages (from timm->detectron2==0.6) (0.14.1+cu116)\n",
            "Collecting huggingface-hub\n",
            "  Using cached huggingface_hub-0.13.2-py3-none-any.whl (199 kB)\n",
            "Requirement already satisfied: rsa<5,>=3.1.4 in /usr/local/lib/python3.9/dist-packages (from google-auth<3,>=1.6.3->tensorboard->detectron2==0.6) (4.9)\n",
            "Requirement already satisfied: six>=1.9.0 in /usr/local/lib/python3.9/dist-packages (from google-auth<3,>=1.6.3->tensorboard->detectron2==0.6) (1.15.0)\n",
            "Requirement already satisfied: pyasn1-modules>=0.2.1 in /usr/local/lib/python3.9/dist-packages (from google-auth<3,>=1.6.3->tensorboard->detectron2==0.6) (0.2.8)\n",
            "Requirement already satisfied: cachetools<6.0,>=2.0.0 in /usr/local/lib/python3.9/dist-packages (from google-auth<3,>=1.6.3->tensorboard->detectron2==0.6) (5.3.0)\n",
            "Requirement already satisfied: requests-oauthlib>=0.7.0 in /usr/local/lib/python3.9/dist-packages (from google-auth-oauthlib<0.5,>=0.4.1->tensorboard->detectron2==0.6) (1.3.1)\n",
            "Requirement already satisfied: importlib-metadata>=4.4 in /usr/local/lib/python3.9/dist-packages (from markdown>=2.6.8->tensorboard->detectron2==0.6) (6.0.0)\n",
            "Requirement already satisfied: urllib3<1.27,>=1.21.1 in /usr/local/lib/python3.9/dist-packages (from requests<3,>=2.21.0->tensorboard->detectron2==0.6) (1.26.15)\n",
            "Requirement already satisfied: idna<3,>=2.5 in /usr/local/lib/python3.9/dist-packages (from requests<3,>=2.21.0->tensorboard->detectron2==0.6) (2.10)\n",
            "Requirement already satisfied: chardet<5,>=3.0.2 in /usr/local/lib/python3.9/dist-packages (from requests<3,>=2.21.0->tensorboard->detectron2==0.6) (4.0.0)\n",
            "Requirement already satisfied: certifi>=2017.4.17 in /usr/local/lib/python3.9/dist-packages (from requests<3,>=2.21.0->tensorboard->detectron2==0.6) (2022.12.7)\n",
            "Requirement already satisfied: MarkupSafe>=2.1.1 in /usr/local/lib/python3.9/dist-packages (from werkzeug>=1.0.1->tensorboard->detectron2==0.6) (2.1.2)\n",
            "Requirement already satisfied: filelock in /usr/local/lib/python3.9/dist-packages (from huggingface-hub->timm->detectron2==0.6) (3.9.0)\n",
            "Requirement already satisfied: zipp>=0.5 in /usr/local/lib/python3.9/dist-packages (from importlib-metadata>=4.4->markdown>=2.6.8->tensorboard->detectron2==0.6) (3.15.0)\n",
            "Requirement already satisfied: pyasn1<0.5.0,>=0.4.6 in /usr/local/lib/python3.9/dist-packages (from pyasn1-modules>=0.2.1->google-auth<3,>=1.6.3->tensorboard->detectron2==0.6) (0.4.8)\n",
            "Requirement already satisfied: oauthlib>=3.0.0 in /usr/local/lib/python3.9/dist-packages (from requests-oauthlib>=0.7.0->google-auth-oauthlib<0.5,>=0.4.1->tensorboard->detectron2==0.6) (3.2.2)\n",
            "Building wheels for collected packages: detectron2, fairscale\n",
            "  Building wheel for detectron2 (setup.py) ... \u001b[?25l\u001b[?25hdone\n",
            "  Created wheel for detectron2: filename=detectron2-0.6-cp39-cp39-linux_x86_64.whl size=6223551 sha256=e5ca15911bcccdcf00c5d0b4166b1f155930e2277cd970b99e4b60720a79989a\n",
            "  Stored in directory: /root/.cache/pip/wheels/4f/3f/d2/430be0d89ff929fc8231e56ae952979aba4eec3ea6e94bf330\n",
            "  Building wheel for fairscale (pyproject.toml) ... \u001b[?25l\u001b[?25hdone\n",
            "  Created wheel for fairscale: filename=fairscale-0.4.13-py3-none-any.whl size=332129 sha256=ab5aa0491a9cad6177e5c155f78529b1c6eedc38f767e826dd4a3caba29c94f4\n",
            "  Stored in directory: /root/.cache/pip/wheels/10/ea/7f/8f35af83599829bb4790bdc16949dd99aeeb62e9a1faf47d47\n",
            "Successfully built detectron2 fairscale\n",
            "Installing collected packages: black, huggingface-hub, fairscale, timm, detectron2\n",
            "  Attempting uninstall: black\n",
            "    Found existing installation: black 21.4b2\n",
            "    Uninstalling black-21.4b2:\n",
            "      Successfully uninstalled black-21.4b2\n",
            "Successfully installed black-22.3.0 detectron2-0.6 fairscale-0.4.13 huggingface-hub-0.13.2 timm-0.6.12\n"
          ]
        }
      ],
      "source": [
        "pip install 'git+https://github.com/facebookresearch/detectron2.git@5aeb252b194b93dc2879b4ac34bc51a31b5aee13'\n"
      ]
    },
    {
      "cell_type": "code",
      "execution_count": null,
      "metadata": {
        "colab": {
          "background_save": true,
          "base_uri": "https://localhost:8080/"
        },
        "id": "UyETwG3fCMfJ",
        "outputId": "3d966651-415b-4e87-a155-acc7eeb8699f"
      },
      "outputs": [
        {
          "name": "stdout",
          "output_type": "stream",
          "text": [
            "Detectron model loaded in  3.899672746658325\n",
            "/usr/local/lib/python3.9/dist-packages/pytorch_lightning/utilities/migration/migration.py:200: PossibleUserWarning: You have multiple `ModelCheckpoint` callback states in this checkpoint, but we found state keys that would end up colliding with each other after an upgrade, which means we can't differentiate which of your checkpoint callbacks needs which states. At least one of your `ModelCheckpoint` callbacks will not be able to reload the state.\n",
            "  rank_zero_warn(\n",
            "Lightning automatically upgraded your loaded checkpoint from v1.3.3 to v2.0.0. To apply the upgrade to your files permanently, run `python -m pytorch_lightning.utilities.upgrade_checkpoint --file models/saved_model.ckpt`\n",
            " * Serving Flask app 'app'\n",
            " * Debug mode: off\n",
            "\u001b[31m\u001b[1mWARNING: This is a development server. Do not use it in a production deployment. Use a production WSGI server instead.\u001b[0m\n",
            " * Running on http://127.0.0.1:5000\n",
            "\u001b[33mPress CTRL+C to quit\u001b[0m\n",
            " * Running on http://0510-34-141-234-89.ngrok.io\n",
            " * Traffic stats available on http://127.0.0.1:4040\n",
            "127.0.0.1 - - [15/Mar/2023 19:25:08] \"GET / HTTP/1.1\" 200 -\n",
            "127.0.0.1 - - [15/Mar/2023 19:25:09] \"\u001b[35m\u001b[1mGET /files/sample_video.mp4 HTTP/1.1\u001b[0m\" 206 -\n",
            "127.0.0.1 - - [15/Mar/2023 19:26:00] \"POST /sample HTTP/1.1\" 200 -\n",
            "127.0.0.1 - - [15/Mar/2023 19:26:01] \"\u001b[35m\u001b[1mGET /files/sample_video.mp4 HTTP/1.1\u001b[0m\" 206 -\n",
            "127.0.0.1 - - [15/Mar/2023 19:26:01] \"\u001b[35m\u001b[1mGET /files/sample_video.mp4 HTTP/1.1\u001b[0m\" 206 -\n",
            "/usr/local/lib/python3.9/dist-packages/torch/functional.py:504: UserWarning: torch.meshgrid: in an upcoming release, it will be required to pass the indexing argument. (Triggered internally at ../aten/src/ATen/native/TensorShape.cpp:3190.)\n",
            "  return _VF.meshgrid(tensors, **kwargs)  # type: ignore[attr-defined]\n",
            "127.0.0.1 - - [15/Mar/2023 19:26:03] \"GET /analyze/sample_video.mp4 HTTP/1.1\" 200 -\n",
            "127.0.0.1 - - [15/Mar/2023 19:26:03] \"\u001b[33mGET /favicon.ico HTTP/1.1\u001b[0m\" 404 -\n",
            "127.0.0.1 - - [15/Mar/2023 19:26:03] \"\u001b[33mGET /favicon.ico HTTP/1.1\u001b[0m\" 404 -\n",
            "127.0.0.1 - - [15/Mar/2023 19:29:29] \"\u001b[35m\u001b[1mGET /files/sample_video.mp4 HTTP/1.1\u001b[0m\" 206 -\n",
            "Video processing finished in  304.3453953266144\n",
            "fps  30\n",
            "width height 1920 1080\n",
            "tot_frames 1464\n",
            "127.0.0.1 - - [15/Mar/2023 19:31:05] \"GET /result_video/sample_video.mp4 HTTP/1.1\" 200 -\n",
            "127.0.0.1 - - [15/Mar/2023 19:32:20] \"GET /analyzed_files/sample_video.mp4 HTTP/1.1\" 200 -\n",
            "finished video streaming\n"
          ]
        }
      ],
      "source": [
        "!python app.py"
      ]
    }
  ],
  "metadata": {
    "accelerator": "GPU",
    "colab": {
      "provenance": [],
      "include_colab_link": true
    },
    "gpuClass": "standard",
    "kernelspec": {
      "display_name": "Python 3",
      "name": "python3"
    },
    "language_info": {
      "name": "python"
    }
  },
  "nbformat": 4,
  "nbformat_minor": 0
}